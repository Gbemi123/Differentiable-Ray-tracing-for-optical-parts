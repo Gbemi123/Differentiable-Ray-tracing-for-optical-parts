{
  "cells": [
    {
      "cell_type": "code",
      "execution_count": null,
      "metadata": {
        "colab": {
          "base_uri": "https://localhost:8080/"
        },
        "id": "wycs5bQj82xp",
        "outputId": "5a94a4fa-f581-4a34-cf7e-cb1dbeb0c10f"
      },
      "outputs": [
        {
          "name": "stdout",
          "output_type": "stream",
          "text": [
            "Looking in indexes: https://pypi.org/simple, https://us-python.pkg.dev/colab-wheels/public/simple/\n",
            "Collecting git+https://github.com/kaanaksit/odak.git\n",
            "  Cloning https://github.com/kaanaksit/odak.git to /tmp/pip-req-build-vzg802qf\n",
            "  Running command git clone -q https://github.com/kaanaksit/odak.git /tmp/pip-req-build-vzg802qf\n",
            "Requirement already satisfied: numpy>=1.19.5 in /usr/local/lib/python3.7/dist-packages (from odak==0.2.1) (1.21.6)\n",
            "Requirement already satisfied: torch>=1.12.0 in /usr/local/lib/python3.7/dist-packages (from odak==0.2.1) (1.12.1+cu113)\n",
            "Requirement already satisfied: pillow>=8.1.2 in /usr/local/lib/python3.7/dist-packages (from odak==0.2.1) (9.2.0)\n",
            "Requirement already satisfied: plyfile>=0.7.2 in /usr/local/lib/python3.7/dist-packages (from odak==0.2.1) (0.7.4)\n",
            "Requirement already satisfied: tqdm>=4.61.1 in /usr/local/lib/python3.7/dist-packages (from odak==0.2.1) (4.64.0)\n",
            "Requirement already satisfied: typing-extensions in /usr/local/lib/python3.7/dist-packages (from torch>=1.12.0->odak==0.2.1) (4.1.1)\n"
          ]
        }
      ],
      "source": [
        "!pip install git+https://github.com/kaanaksit/odak.git"
      ]
    },
    {
      "cell_type": "code",
      "execution_count": null,
      "metadata": {
        "id": "bRplrIrs9Aep"
      },
      "outputs": [],
      "source": [
        "import odak\n",
        "import torch \n",
        "import numpy as np \n",
        "import odak.learn.raytracing as ODL\n",
        "import matplotlib.pyplot as plt\n",
        "import math\n",
        "import odak.raytracing as raytracer\n",
        "import odak.tools as tools\n",
        "import odak.raytracing as raytracer\n",
        "import torch.nn as nn\n",
        "from odak.raytracing.ray import create_ray\n",
        "import cv2\n",
        "from PIL import Image\n",
        "import sys\n",
        "import torch.optim as optim\n",
        "from torchvision import transforms\n",
        "from torch.nn import Module\n",
        "import math"
      ]
    },
    {
      "cell_type": "code",
      "execution_count": null,
      "metadata": {
        "id": "qnacR_0UDXLt"
      },
      "outputs": [],
      "source": [
        "class aperture_array():\n",
        "\n",
        "  def __init__(self, device):\n",
        "    self.device = device\n",
        "    \n",
        "    self.init_light_sources()\n",
        "    self.init_aperture_array()\n",
        "    self.init_detector()\n",
        "    # self.transform_image()\n",
        "    \n",
        "\n",
        "  def transform_image(self, image):\n",
        "    transform =transforms.Compose([\n",
        "        transforms.Resize((28,28)),\n",
        "        transforms.ToTensor(),\n",
        "        transforms.Normalize((0.5), (0.5))\n",
        "        \n",
        "    ])\n",
        "    normalised_image = transform(image).view(-1,1).to(self.device)\n",
        "    \n",
        "    return normalised_image\n",
        "\n",
        "  \n",
        "  def init_light_sources(self, dimensions=[0.01, 0.015], pixel_count=[28,28], Z=0.):\n",
        "      x = torch.linspace(-dimensions[0]/2., dimensions[0]/2., pixel_count[0])\n",
        "      y = torch.linspace(-dimensions[1]/2., dimensions[1]/2., pixel_count[1])\n",
        "      X, Y = torch.meshgrid(x, y, indexing='ij')\n",
        "      self.light_source_locations = torch.zeros(X.shape[0], X.shape[1], 3).to(self.device)\n",
        "      self.light_source_locations[:, :, 0] = X\n",
        "      self.light_source_locations[:, :, 1] = Y\n",
        "      self.light_source_locations[:, :, 2] = Z\n",
        "      \n",
        "      \n",
        "  def init_aperture_array(self, dimensions=[0.01, 0.015], pixel_count=[28,28], Z=0.01):\n",
        "        x = torch.linspace(-dimensions[0]/2., dimensions[0]/2., pixel_count[0])\n",
        "        y = torch.linspace(-dimensions[1]/2., dimensions[1]/2., pixel_count[1])\n",
        "        X, Y = torch.meshgrid(x, y, indexing='ij')\n",
        "        self.aperture_array_locations = torch.zeros(X.shape[0], X.shape[1], 3).to(self.device)\n",
        "        self.aperture_array_locations[:, :, 0] = X\n",
        "        self.aperture_array_locations[:, :, 1] = Y\n",
        "        self.aperture_array_locations[:, :, 2] = Z\n",
        "        self.aperture_array = torch.rand(X.shape[0], X.shape[1], requires_grad=True, device=self.device) \n",
        "\n",
        "        return self.aperture_array\n",
        "        \n",
        "        \n",
        "  def init_detector(self, dimensions=[0.01, 0.015], size=[28,28], Z=0.01):\n",
        "        \n",
        "        point = torch.tensor([0., 0., Z]).to(self.device)\n",
        "        self.detector_surface = odak.learn.raytracing.define_plane(point)\n",
        "        \n",
        "        \n",
        "  def intersection_points_to_image(self, points, amplitudes, threshold, norm_image):\n",
        "   \n",
        "        Points_data= norm_image * amplitudes\n",
        "        detector = torch.zeros_like(Points_data).to(self.device)\n",
        "        array_locations = self.aperture_array_locations.view(-1, 3)\n",
        "\n",
        "        \n",
        "\n",
        "        for i in points: \n",
        "          for idx, point in enumerate(i):\n",
        "            \n",
        "        \n",
        "            dist_btwn_array_npoint = torch.sqrt(torch.sum((array_locations-point)**2, dim=1))\n",
        "            min_dist_idx  = torch.argmin(dist_btwn_array_npoint)\n",
        "            min_dist = torch.min(dist_btwn_array_npoint)\n",
        "\n",
        "            if min_dist < (math.sqrt(2) * threshold):\n",
        "              detector[min_dist_idx] = Points_data[idx]\n",
        "\n",
        "          detector +=detector\n",
        "              \n",
        "        detector = detector.view(28,28)\n",
        "        return detector\n",
        "  \n",
        "  def forward(self, array, image):\n",
        "        light_source_locations = self.light_source_locations.view(-1, 3)\n",
        "\n",
        "        aperture_array_locations = self.aperture_array_locations.view(-1, 3)\n",
        "\n",
        "        detector_image  = torch.zeros(28,28).to(self.device)\n",
        "        self.pixel_pitch = torch.sqrt(torch.sum((aperture_array_locations[1] - aperture_array_locations[0])**2, dim =0)).to(self.device)\n",
        "\n",
        "        aperture_array = array.view(-1,1)\n",
        "        self.img = image\n",
        "        self.norm_img = self.transform_image(image) #size(600,1)\n",
        "\n",
        "        intersections = []\n",
        "        \n",
        "        for light_source_location in light_source_locations:\n",
        "            rays_from_light_source = odak.learn.raytracing.create_ray_from_two_points(light_source_location, aperture_array_locations)\n",
        "\n",
        "             # calculating intersection points\n",
        "            intersection_normals_w_detector, _ = odak.learn.raytracing.intersect_w_surface(rays_from_light_source, self.detector_surface)\n",
        "            intersection_points_w_detector = intersection_normals_w_detector[:, 0]\n",
        "            intersections.append(intersection_points_w_detector)\n",
        "            \n",
        "            \n",
        "        # Getting the image seen on the image plane\n",
        "        detector_image = self.intersection_points_to_image(\n",
        "                                                            intersections,\n",
        "                                                            aperture_array, \n",
        "                                                            self.pixel_pitch,\n",
        "                                                            self.norm_img\n",
        "                                                          )  \n",
        "        return detector_image, intersections\n",
        "\n",
        "  def compute_loss(self, output , target):\n",
        "    loss = torch.nn.MSELoss()(output, target)\n",
        "\n",
        "    return loss\n",
        "            \n",
        "  def optimize(self, intersection_points):\n",
        "        \n",
        "        # \n",
        "        target= self.norm_img.view(28,28) #size(28,28)\n",
        "\n",
        "\n",
        "        array = self.aperture_array.view(-1,1)\n",
        "        array_loc = self.aperture_array_locations\n",
        "\n",
        "        model = [nn.Parameter(array)]\n",
        "\n",
        "        points= intersection_points\n",
        "        threshold= self.pixel_pitch\n",
        "\n",
        "       \n",
        "        optimiser= torch.optim.SGD(model,lr = 0.1,momentum=0.9)\n",
        "        epochs= 200\n",
        "\n",
        "        for epoch in range(0, epochs+1):\n",
        "          optimiser.zero_grad()\n",
        "          \n",
        "          output=self.intersection_points_to_image(points, model[0], threshold, self.norm_img)\n",
        "          loss = self.compute_loss(output,target)\n",
        "            \n",
        "          loss.backward()\n",
        "          optimiser.step()\n",
        "\n",
        "          print('Epoch: ', epoch,' ,Loss: ', loss)\n",
        "\n",
        "        return model, output\n",
        "  \n",
        "def main():\n",
        "    device = torch.device('cuda')\n",
        "    apertures = aperture_array(device=device)\n",
        "    result = apertures.optimize()\n",
        "    return True\n",
        "\n",
        "\n",
        "\n",
        "\n",
        "\n"
      ]
    },
    {
      "cell_type": "code",
      "execution_count": null,
      "metadata": {
        "id": "8tjaOFV69HNd"
      },
      "outputs": [],
      "source": [
        "device = torch.device('cuda' if torch.cuda.is_available() else 'cpu')\n",
        "Aperture_RT= aperture_array(device)"
      ]
    },
    {
      "cell_type": "code",
      "execution_count": null,
      "metadata": {
        "colab": {
          "base_uri": "https://localhost:8080/"
        },
        "id": "dvqwC0OPC7Ot",
        "outputId": "ed9b526a-0de5-4fcf-96a8-0d3d0c85dd1d"
      },
      "outputs": [
        {
          "name": "stdout",
          "output_type": "stream",
          "text": [
            "Downloading data from https://storage.googleapis.com/tensorflow/tf-keras-datasets/train-labels-idx1-ubyte.gz\n",
            "32768/29515 [=================================] - 0s 0us/step\n",
            "40960/29515 [=========================================] - 0s 1us/step\n",
            "Downloading data from https://storage.googleapis.com/tensorflow/tf-keras-datasets/train-images-idx3-ubyte.gz\n",
            "26427392/26421880 [==============================] - 0s 0us/step\n",
            "26435584/26421880 [==============================] - 0s 0us/step\n",
            "Downloading data from https://storage.googleapis.com/tensorflow/tf-keras-datasets/t10k-labels-idx1-ubyte.gz\n",
            "16384/5148 [===============================================================================================] - 0s 0us/step\n",
            "Downloading data from https://storage.googleapis.com/tensorflow/tf-keras-datasets/t10k-images-idx3-ubyte.gz\n",
            "4423680/4422102 [==============================] - 0s 0us/step\n",
            "4431872/4422102 [==============================] - 0s 0us/step\n"
          ]
        }
      ],
      "source": [
        "import tensorflow as tf \n",
        "\n",
        "(x_train , y_train) , (x_test, y_test )= tf.keras.datasets.fashion_mnist.load_data()\n",
        "\n"
      ]
    },
    {
      "cell_type": "code",
      "execution_count": null,
      "metadata": {
        "id": "9NkBYToT9JE6"
      },
      "outputs": [],
      "source": [
        "#test_img_2 = Image.fromarray(x_train[7]).convert('L')\n",
        "\n",
        "test_img_4 = Image.open('/content/pixil-frame-0.png').convert('L')\n",
        "#/content/heart.png\n",
        "array = Aperture_RT.init_aperture_array()# initial value of the aperture array yet to be optimised\n",
        "\n",
        "transform = transforms.Compose([\n",
        "    transforms.ToTensor(),\n",
        "    transforms.Resize((28,28)),\n",
        "    transforms.Normalize((0.5), (0.5))\n",
        "])\n",
        "\n",
        "resize_image = transform(test_img_4).to(device)\n",
        "ray_traced_image, intersection_points= Aperture_RT.forward(array,test_img_4)"
      ]
    },
    {
      "cell_type": "code",
      "execution_count": null,
      "metadata": {
        "colab": {
          "base_uri": "https://localhost:8080/",
          "height": 255
        },
        "id": "oAFXtcA09MKo",
        "outputId": "00f87c0a-dbda-45c2-c692-612c45c601cb"
      },
      "outputs": [
        {
          "data": {
            "text/plain": [
              "Text(0.5, 1.0, 'Image ray traced through array')"
            ]
          },
          "execution_count": 84,
          "metadata": {},
          "output_type": "execute_result"
        },
        {
          "data": {
            "image/png": "[encoded data removed]",
            "text/plain": [
              "<Figure size 1080x1080 with 3 Axes>"
            ]
          },
          "metadata": {},
          "output_type": "display_data"
        }
      ],
      "source": [
        "fig , axes=plt.subplots(1,3, figsize =(15, 15))\n",
        "\n",
        "axes[0].imshow(test_img_4, cmap='gray')\n",
        "axes[0].set_title('original sized image')\n",
        "\n",
        "axes[1].imshow(resize_image.cpu().squeeze(), cmap='gray')\n",
        "axes[1].set_title('Target Image')\n",
        "\n",
        "axes[2].imshow(ray_traced_image.detach().cpu().numpy()*255, cmap='gray')\n",
        "axes[2].set_title('Image ray traced through array')"
      ]
    },
    {
      "cell_type": "code",
      "execution_count": null,
      "metadata": {
        "colab": {
          "base_uri": "https://localhost:8080/",
          "height": 265
        },
        "id": "u02-Y5eeJy0T",
        "outputId": "0b08214d-6caf-408d-bbd7-6b384e48e03e"
      },
      "outputs": [
        {
          "data": {
            "image/png": "[encoded data removed]",
            "text/plain": [
              "<Figure size 432x288 with 1 Axes>"
            ]
          },
          "metadata": {},
          "output_type": "display_data"
        }
      ],
      "source": [
        "plt.imshow(test_img_4, cmap='gray')\n",
        "#plt.title('Image ray traced through array')\n",
        "plt.savefig('/content/drive/MyDrive/Colab Notebooks/MASTERS PROJECT /Tests/Test_4/test_image.png',bbox_inches='tight',pad_inches = 0)\n",
        "plt.show()"
      ]
    },
    {
      "cell_type": "code",
      "execution_count": null,
      "metadata": {
        "colab": {
          "base_uri": "https://localhost:8080/",
          "height": 265
        },
        "id": "pYkuCc0XJWja",
        "outputId": "e9266f68-4383-499d-df20-aa769c08e11a"
      },
      "outputs": [
        {
          "data": {
            "image/png": "[encoded data removed]",
            "text/plain": [
              "<Figure size 432x288 with 1 Axes>"
            ]
          },
          "metadata": {},
          "output_type": "display_data"
        }
      ],
      "source": [
        "plt.imshow(resize_image.cpu().squeeze(), cmap='gray')\n",
        "#plt.title('Image ray traced through array')\n",
        "plt.savefig('/content/drive/MyDrive/Colab Notebooks/MASTERS PROJECT /Tests/Test_4/resized_image.png',bbox_inches='tight',pad_inches = 0)\n",
        "plt.show()"
      ]
    },
    {
      "cell_type": "code",
      "execution_count": null,
      "metadata": {
        "colab": {
          "base_uri": "https://localhost:8080/",
          "height": 265
        },
        "id": "OWYwVRffHU_-",
        "outputId": "85c063cf-f785-455f-cd9a-662be76ffc62"
      },
      "outputs": [
        {
          "data": {
            "image/png": "[encoded data removed]",
            "text/plain": [
              "<Figure size 432x288 with 1 Axes>"
            ]
          },
          "metadata": {},
          "output_type": "display_data"
        }
      ],
      "source": [
        "plt.imshow(ray_traced_image.detach().cpu().numpy()*255, cmap='gray')\n",
        "#plt.title('Image ray traced through array')\n",
        "plt.savefig('/content/drive/MyDrive/Colab Notebooks/MASTERS PROJECT /Tests/Test_4/Ray_traced_image_2.png',bbox_inches='tight',pad_inches = 0)\n",
        "plt.show()"
      ]
    },
    {
      "cell_type": "code",
      "execution_count": null,
      "metadata": {
        "colab": {
          "base_uri": "https://localhost:8080/"
        },
        "id": "imLzfVJ-9NnO",
        "outputId": "4b928283-3494-48ef-926b-25cf3a580f7e"
      },
      "outputs": [
        {
          "name": "stdout",
          "output_type": "stream",
          "text": [
            "The initial loss is:  tensor(0.2444, grad_fn=<MseLossBackward0>)\n"
          ]
        }
      ],
      "source": [
        "Loss = Aperture_RT.compute_loss(ray_traced_image, resize_image.squeeze())\n",
        "print('The initial loss is: ',Loss)"
      ]
    },
    {
      "cell_type": "code",
      "execution_count": null,
      "metadata": {
        "colab": {
          "background_save": true,
          "base_uri": "https://localhost:8080/"
        },
        "id": "-eyoFI9j9Ors",
        "outputId": "dac0e771-5f44-4a29-f555-76b662cc834b"
      },
      "outputs": [
        {
          "name": "stdout",
          "output_type": "stream",
          "text": [
            "Epoch:  0  ,Loss:  tensor(0.2444, grad_fn=<MseLossBackward0>)\n",
            "Epoch:  1  ,Loss:  tensor(0.2440, grad_fn=<MseLossBackward0>)\n",
            "Epoch:  2  ,Loss:  tensor(0.2431, grad_fn=<MseLossBackward0>)\n",
            "Epoch:  3  ,Loss:  tensor(0.2418, grad_fn=<MseLossBackward0>)\n",
            "Epoch:  4  ,Loss:  tensor(0.2403, grad_fn=<MseLossBackward0>)\n",
            "Epoch:  5  ,Loss:  tensor(0.2384, grad_fn=<MseLossBackward0>)\n",
            "Epoch:  6  ,Loss:  tensor(0.2362, grad_fn=<MseLossBackward0>)\n",
            "Epoch:  7  ,Loss:  tensor(0.2339, grad_fn=<MseLossBackward0>)\n",
            "Epoch:  8  ,Loss:  tensor(0.2313, grad_fn=<MseLossBackward0>)\n",
            "Epoch:  9  ,Loss:  tensor(0.2286, grad_fn=<MseLossBackward0>)\n",
            "Epoch:  10  ,Loss:  tensor(0.2257, grad_fn=<MseLossBackward0>)\n",
            "Epoch:  11  ,Loss:  tensor(0.2227, grad_fn=<MseLossBackward0>)\n",
            "Epoch:  12  ,Loss:  tensor(0.2196, grad_fn=<MseLossBackward0>)\n",
            "Epoch:  13  ,Loss:  tensor(0.2164, grad_fn=<MseLossBackward0>)\n",
            "Epoch:  14  ,Loss:  tensor(0.2132, grad_fn=<MseLossBackward0>)\n",
            "Epoch:  15  ,Loss:  tensor(0.2099, grad_fn=<MseLossBackward0>)\n",
            "Epoch:  16  ,Loss:  tensor(0.2065, grad_fn=<MseLossBackward0>)\n",
            "Epoch:  17  ,Loss:  tensor(0.2032, grad_fn=<MseLossBackward0>)\n",
            "Epoch:  18  ,Loss:  tensor(0.1998, grad_fn=<MseLossBackward0>)\n",
            "Epoch:  19  ,Loss:  tensor(0.1964, grad_fn=<MseLossBackward0>)\n",
            "Epoch:  20  ,Loss:  tensor(0.1930, grad_fn=<MseLossBackward0>)\n",
            "Epoch:  21  ,Loss:  tensor(0.1896, grad_fn=<MseLossBackward0>)\n",
            "Epoch:  22  ,Loss:  tensor(0.1862, grad_fn=<MseLossBackward0>)\n",
            "Epoch:  23  ,Loss:  tensor(0.1828, grad_fn=<MseLossBackward0>)\n",
            "Epoch:  24  ,Loss:  tensor(0.1795, grad_fn=<MseLossBackward0>)\n",
            "Epoch:  25  ,Loss:  tensor(0.1762, grad_fn=<MseLossBackward0>)\n",
            "Epoch:  26  ,Loss:  tensor(0.1729, grad_fn=<MseLossBackward0>)\n",
            "Epoch:  27  ,Loss:  tensor(0.1697, grad_fn=<MseLossBackward0>)\n",
            "Epoch:  28  ,Loss:  tensor(0.1664, grad_fn=<MseLossBackward0>)\n",
            "Epoch:  29  ,Loss:  tensor(0.1633, grad_fn=<MseLossBackward0>)\n",
            "Epoch:  30  ,Loss:  tensor(0.1602, grad_fn=<MseLossBackward0>)\n",
            "Epoch:  31  ,Loss:  tensor(0.1571, grad_fn=<MseLossBackward0>)\n",
            "Epoch:  32  ,Loss:  tensor(0.1540, grad_fn=<MseLossBackward0>)\n",
            "Epoch:  33  ,Loss:  tensor(0.1510, grad_fn=<MseLossBackward0>)\n",
            "Epoch:  34  ,Loss:  tensor(0.1481, grad_fn=<MseLossBackward0>)\n",
            "Epoch:  35  ,Loss:  tensor(0.1452, grad_fn=<MseLossBackward0>)\n",
            "Epoch:  36  ,Loss:  tensor(0.1424, grad_fn=<MseLossBackward0>)\n",
            "Epoch:  37  ,Loss:  tensor(0.1396, grad_fn=<MseLossBackward0>)\n",
            "Epoch:  38  ,Loss:  tensor(0.1368, grad_fn=<MseLossBackward0>)\n",
            "Epoch:  39  ,Loss:  tensor(0.1341, grad_fn=<MseLossBackward0>)\n",
            "Epoch:  40  ,Loss:  tensor(0.1315, grad_fn=<MseLossBackward0>)\n",
            "Epoch:  41  ,Loss:  tensor(0.1289, grad_fn=<MseLossBackward0>)\n",
            "Epoch:  42  ,Loss:  tensor(0.1263, grad_fn=<MseLossBackward0>)\n",
            "Epoch:  43  ,Loss:  tensor(0.1238, grad_fn=<MseLossBackward0>)\n",
            "Epoch:  44  ,Loss:  tensor(0.1214, grad_fn=<MseLossBackward0>)\n",
            "Epoch:  45  ,Loss:  tensor(0.1190, grad_fn=<MseLossBackward0>)\n",
            "Epoch:  46  ,Loss:  tensor(0.1166, grad_fn=<MseLossBackward0>)\n",
            "Epoch:  47  ,Loss:  tensor(0.1143, grad_fn=<MseLossBackward0>)\n",
            "Epoch:  48  ,Loss:  tensor(0.1120, grad_fn=<MseLossBackward0>)\n",
            "Epoch:  49  ,Loss:  tensor(0.1098, grad_fn=<MseLossBackward0>)\n",
            "Epoch:  50  ,Loss:  tensor(0.1076, grad_fn=<MseLossBackward0>)\n",
            "Epoch:  51  ,Loss:  tensor(0.1055, grad_fn=<MseLossBackward0>)\n",
            "Epoch:  52  ,Loss:  tensor(0.1034, grad_fn=<MseLossBackward0>)\n",
            "Epoch:  53  ,Loss:  tensor(0.1014, grad_fn=<MseLossBackward0>)\n",
            "Epoch:  54  ,Loss:  tensor(0.0994, grad_fn=<MseLossBackward0>)\n",
            "Epoch:  55  ,Loss:  tensor(0.0974, grad_fn=<MseLossBackward0>)\n",
            "Epoch:  56  ,Loss:  tensor(0.0955, grad_fn=<MseLossBackward0>)\n",
            "Epoch:  57  ,Loss:  tensor(0.0936, grad_fn=<MseLossBackward0>)\n",
            "Epoch:  58  ,Loss:  tensor(0.0918, grad_fn=<MseLossBackward0>)\n",
            "Epoch:  59  ,Loss:  tensor(0.0899, grad_fn=<MseLossBackward0>)\n",
            "Epoch:  60  ,Loss:  tensor(0.0882, grad_fn=<MseLossBackward0>)\n",
            "Epoch:  61  ,Loss:  tensor(0.0865, grad_fn=<MseLossBackward0>)\n",
            "Epoch:  62  ,Loss:  tensor(0.0848, grad_fn=<MseLossBackward0>)\n",
            "Epoch:  63  ,Loss:  tensor(0.0831, grad_fn=<MseLossBackward0>)\n",
            "Epoch:  64  ,Loss:  tensor(0.0815, grad_fn=<MseLossBackward0>)\n",
            "Epoch:  65  ,Loss:  tensor(0.0799, grad_fn=<MseLossBackward0>)\n",
            "Epoch:  66  ,Loss:  tensor(0.0783, grad_fn=<MseLossBackward0>)\n",
            "Epoch:  67  ,Loss:  tensor(0.0768, grad_fn=<MseLossBackward0>)\n",
            "Epoch:  68  ,Loss:  tensor(0.0753, grad_fn=<MseLossBackward0>)\n",
            "Epoch:  69  ,Loss:  tensor(0.0739, grad_fn=<MseLossBackward0>)\n",
            "Epoch:  70  ,Loss:  tensor(0.0724, grad_fn=<MseLossBackward0>)\n",
            "Epoch:  71  ,Loss:  tensor(0.0710, grad_fn=<MseLossBackward0>)\n",
            "Epoch:  72  ,Loss:  tensor(0.0697, grad_fn=<MseLossBackward0>)\n",
            "Epoch:  73  ,Loss:  tensor(0.0683, grad_fn=<MseLossBackward0>)\n",
            "Epoch:  74  ,Loss:  tensor(0.0670, grad_fn=<MseLossBackward0>)\n",
            "Epoch:  75  ,Loss:  tensor(0.0657, grad_fn=<MseLossBackward0>)\n",
            "Epoch:  76  ,Loss:  tensor(0.0645, grad_fn=<MseLossBackward0>)\n",
            "Epoch:  77  ,Loss:  tensor(0.0633, grad_fn=<MseLossBackward0>)\n",
            "Epoch:  78  ,Loss:  tensor(0.0621, grad_fn=<MseLossBackward0>)\n",
            "Epoch:  79  ,Loss:  tensor(0.0609, grad_fn=<MseLossBackward0>)\n",
            "Epoch:  80  ,Loss:  tensor(0.0597, grad_fn=<MseLossBackward0>)\n",
            "Epoch:  81  ,Loss:  tensor(0.0586, grad_fn=<MseLossBackward0>)\n",
            "Epoch:  82  ,Loss:  tensor(0.0575, grad_fn=<MseLossBackward0>)\n",
            "Epoch:  83  ,Loss:  tensor(0.0564, grad_fn=<MseLossBackward0>)\n",
            "Epoch:  84  ,Loss:  tensor(0.0553, grad_fn=<MseLossBackward0>)\n",
            "Epoch:  85  ,Loss:  tensor(0.0543, grad_fn=<MseLossBackward0>)\n",
            "Epoch:  86  ,Loss:  tensor(0.0533, grad_fn=<MseLossBackward0>)\n",
            "Epoch:  87  ,Loss:  tensor(0.0523, grad_fn=<MseLossBackward0>)\n",
            "Epoch:  88  ,Loss:  tensor(0.0513, grad_fn=<MseLossBackward0>)\n",
            "Epoch:  89  ,Loss:  tensor(0.0504, grad_fn=<MseLossBackward0>)\n",
            "Epoch:  90  ,Loss:  tensor(0.0494, grad_fn=<MseLossBackward0>)\n",
            "Epoch:  91  ,Loss:  tensor(0.0485, grad_fn=<MseLossBackward0>)\n",
            "Epoch:  92  ,Loss:  tensor(0.0476, grad_fn=<MseLossBackward0>)\n",
            "Epoch:  93  ,Loss:  tensor(0.0468, grad_fn=<MseLossBackward0>)\n",
            "Epoch:  94  ,Loss:  tensor(0.0459, grad_fn=<MseLossBackward0>)\n",
            "Epoch:  95  ,Loss:  tensor(0.0451, grad_fn=<MseLossBackward0>)\n",
            "Epoch:  96  ,Loss:  tensor(0.0443, grad_fn=<MseLossBackward0>)\n",
            "Epoch:  97  ,Loss:  tensor(0.0434, grad_fn=<MseLossBackward0>)\n",
            "Epoch:  98  ,Loss:  tensor(0.0427, grad_fn=<MseLossBackward0>)\n",
            "Epoch:  99  ,Loss:  tensor(0.0419, grad_fn=<MseLossBackward0>)\n",
            "Epoch:  100  ,Loss:  tensor(0.0411, grad_fn=<MseLossBackward0>)\n",
            "Epoch:  101  ,Loss:  tensor(0.0404, grad_fn=<MseLossBackward0>)\n",
            "Epoch:  102  ,Loss:  tensor(0.0397, grad_fn=<MseLossBackward0>)\n",
            "Epoch:  103  ,Loss:  tensor(0.0390, grad_fn=<MseLossBackward0>)\n",
            "Epoch:  104  ,Loss:  tensor(0.0383, grad_fn=<MseLossBackward0>)\n",
            "Epoch:  105  ,Loss:  tensor(0.0376, grad_fn=<MseLossBackward0>)\n",
            "Epoch:  106  ,Loss:  tensor(0.0369, grad_fn=<MseLossBackward0>)\n",
            "Epoch:  107  ,Loss:  tensor(0.0363, grad_fn=<MseLossBackward0>)\n",
            "Epoch:  108  ,Loss:  tensor(0.0356, grad_fn=<MseLossBackward0>)\n",
            "Epoch:  109  ,Loss:  tensor(0.0350, grad_fn=<MseLossBackward0>)\n",
            "Epoch:  110  ,Loss:  tensor(0.0344, grad_fn=<MseLossBackward0>)\n",
            "Epoch:  111  ,Loss:  tensor(0.0338, grad_fn=<MseLossBackward0>)\n",
            "Epoch:  112  ,Loss:  tensor(0.0332, grad_fn=<MseLossBackward0>)\n",
            "Epoch:  113  ,Loss:  tensor(0.0326, grad_fn=<MseLossBackward0>)\n",
            "Epoch:  114  ,Loss:  tensor(0.0321, grad_fn=<MseLossBackward0>)\n",
            "Epoch:  115  ,Loss:  tensor(0.0315, grad_fn=<MseLossBackward0>)\n",
            "Epoch:  116  ,Loss:  tensor(0.0310, grad_fn=<MseLossBackward0>)\n",
            "Epoch:  117  ,Loss:  tensor(0.0305, grad_fn=<MseLossBackward0>)\n",
            "Epoch:  118  ,Loss:  tensor(0.0299, grad_fn=<MseLossBackward0>)\n",
            "Epoch:  119  ,Loss:  tensor(0.0294, grad_fn=<MseLossBackward0>)\n",
            "Epoch:  120  ,Loss:  tensor(0.0289, grad_fn=<MseLossBackward0>)\n",
            "Epoch:  121  ,Loss:  tensor(0.0284, grad_fn=<MseLossBackward0>)\n",
            "Epoch:  122  ,Loss:  tensor(0.0280, grad_fn=<MseLossBackward0>)\n",
            "Epoch:  123  ,Loss:  tensor(0.0275, grad_fn=<MseLossBackward0>)\n",
            "Epoch:  124  ,Loss:  tensor(0.0270, grad_fn=<MseLossBackward0>)\n",
            "Epoch:  125  ,Loss:  tensor(0.0266, grad_fn=<MseLossBackward0>)\n",
            "Epoch:  126  ,Loss:  tensor(0.0261, grad_fn=<MseLossBackward0>)\n",
            "Epoch:  127  ,Loss:  tensor(0.0257, grad_fn=<MseLossBackward0>)\n",
            "Epoch:  128  ,Loss:  tensor(0.0253, grad_fn=<MseLossBackward0>)\n",
            "Epoch:  129  ,Loss:  tensor(0.0249, grad_fn=<MseLossBackward0>)\n",
            "Epoch:  130  ,Loss:  tensor(0.0245, grad_fn=<MseLossBackward0>)\n",
            "Epoch:  131  ,Loss:  tensor(0.0241, grad_fn=<MseLossBackward0>)\n",
            "Epoch:  132  ,Loss:  tensor(0.0237, grad_fn=<MseLossBackward0>)\n",
            "Epoch:  133  ,Loss:  tensor(0.0233, grad_fn=<MseLossBackward0>)\n",
            "Epoch:  134  ,Loss:  tensor(0.0229, grad_fn=<MseLossBackward0>)\n",
            "Epoch:  135  ,Loss:  tensor(0.0226, grad_fn=<MseLossBackward0>)\n",
            "Epoch:  136  ,Loss:  tensor(0.0222, grad_fn=<MseLossBackward0>)\n",
            "Epoch:  137  ,Loss:  tensor(0.0218, grad_fn=<MseLossBackward0>)\n",
            "Epoch:  138  ,Loss:  tensor(0.0215, grad_fn=<MseLossBackward0>)\n",
            "Epoch:  139  ,Loss:  tensor(0.0212, grad_fn=<MseLossBackward0>)\n",
            "Epoch:  140  ,Loss:  tensor(0.0208, grad_fn=<MseLossBackward0>)\n",
            "Epoch:  141  ,Loss:  tensor(0.0205, grad_fn=<MseLossBackward0>)\n",
            "Epoch:  142  ,Loss:  tensor(0.0202, grad_fn=<MseLossBackward0>)\n",
            "Epoch:  143  ,Loss:  tensor(0.0199, grad_fn=<MseLossBackward0>)\n",
            "Epoch:  144  ,Loss:  tensor(0.0196, grad_fn=<MseLossBackward0>)\n",
            "Epoch:  145  ,Loss:  tensor(0.0193, grad_fn=<MseLossBackward0>)\n",
            "Epoch:  146  ,Loss:  tensor(0.0190, grad_fn=<MseLossBackward0>)\n",
            "Epoch:  147  ,Loss:  tensor(0.0187, grad_fn=<MseLossBackward0>)\n",
            "Epoch:  148  ,Loss:  tensor(0.0184, grad_fn=<MseLossBackward0>)\n",
            "Epoch:  149  ,Loss:  tensor(0.0181, grad_fn=<MseLossBackward0>)\n",
            "Epoch:  150  ,Loss:  tensor(0.0178, grad_fn=<MseLossBackward0>)\n",
            "Epoch:  151  ,Loss:  tensor(0.0176, grad_fn=<MseLossBackward0>)\n",
            "Epoch:  152  ,Loss:  tensor(0.0173, grad_fn=<MseLossBackward0>)\n",
            "Epoch:  153  ,Loss:  tensor(0.0171, grad_fn=<MseLossBackward0>)\n",
            "Epoch:  154  ,Loss:  tensor(0.0168, grad_fn=<MseLossBackward0>)\n",
            "Epoch:  155  ,Loss:  tensor(0.0166, grad_fn=<MseLossBackward0>)\n",
            "Epoch:  156  ,Loss:  tensor(0.0163, grad_fn=<MseLossBackward0>)\n",
            "Epoch:  157  ,Loss:  tensor(0.0161, grad_fn=<MseLossBackward0>)\n",
            "Epoch:  158  ,Loss:  tensor(0.0158, grad_fn=<MseLossBackward0>)\n",
            "Epoch:  159  ,Loss:  tensor(0.0156, grad_fn=<MseLossBackward0>)\n",
            "Epoch:  160  ,Loss:  tensor(0.0154, grad_fn=<MseLossBackward0>)\n",
            "Epoch:  161  ,Loss:  tensor(0.0152, grad_fn=<MseLossBackward0>)\n",
            "Epoch:  162  ,Loss:  tensor(0.0149, grad_fn=<MseLossBackward0>)\n",
            "Epoch:  163  ,Loss:  tensor(0.0147, grad_fn=<MseLossBackward0>)\n",
            "Epoch:  164  ,Loss:  tensor(0.0145, grad_fn=<MseLossBackward0>)\n",
            "Epoch:  165  ,Loss:  tensor(0.0143, grad_fn=<MseLossBackward0>)\n",
            "Epoch:  166  ,Loss:  tensor(0.0141, grad_fn=<MseLossBackward0>)\n",
            "Epoch:  167  ,Loss:  tensor(0.0139, grad_fn=<MseLossBackward0>)\n",
            "Epoch:  168  ,Loss:  tensor(0.0137, grad_fn=<MseLossBackward0>)\n",
            "Epoch:  169  ,Loss:  tensor(0.0135, grad_fn=<MseLossBackward0>)\n",
            "Epoch:  170  ,Loss:  tensor(0.0134, grad_fn=<MseLossBackward0>)\n",
            "Epoch:  171  ,Loss:  tensor(0.0132, grad_fn=<MseLossBackward0>)\n",
            "Epoch:  172  ,Loss:  tensor(0.0130, grad_fn=<MseLossBackward0>)\n",
            "Epoch:  173  ,Loss:  tensor(0.0128, grad_fn=<MseLossBackward0>)\n",
            "Epoch:  174  ,Loss:  tensor(0.0126, grad_fn=<MseLossBackward0>)\n",
            "Epoch:  175  ,Loss:  tensor(0.0125, grad_fn=<MseLossBackward0>)\n",
            "Epoch:  176  ,Loss:  tensor(0.0123, grad_fn=<MseLossBackward0>)\n",
            "Epoch:  177  ,Loss:  tensor(0.0121, grad_fn=<MseLossBackward0>)\n",
            "Epoch:  178  ,Loss:  tensor(0.0120, grad_fn=<MseLossBackward0>)\n",
            "Epoch:  179  ,Loss:  tensor(0.0118, grad_fn=<MseLossBackward0>)\n",
            "Epoch:  180  ,Loss:  tensor(0.0117, grad_fn=<MseLossBackward0>)\n",
            "Epoch:  181  ,Loss:  tensor(0.0115, grad_fn=<MseLossBackward0>)\n",
            "Epoch:  182  ,Loss:  tensor(0.0114, grad_fn=<MseLossBackward0>)\n",
            "Epoch:  183  ,Loss:  tensor(0.0112, grad_fn=<MseLossBackward0>)\n",
            "Epoch:  184  ,Loss:  tensor(0.0111, grad_fn=<MseLossBackward0>)\n",
            "Epoch:  185  ,Loss:  tensor(0.0109, grad_fn=<MseLossBackward0>)\n",
            "Epoch:  186  ,Loss:  tensor(0.0108, grad_fn=<MseLossBackward0>)\n",
            "Epoch:  187  ,Loss:  tensor(0.0107, grad_fn=<MseLossBackward0>)\n",
            "Epoch:  188  ,Loss:  tensor(0.0105, grad_fn=<MseLossBackward0>)\n",
            "Epoch:  189  ,Loss:  tensor(0.0104, grad_fn=<MseLossBackward0>)\n",
            "Epoch:  190  ,Loss:  tensor(0.0103, grad_fn=<MseLossBackward0>)\n",
            "Epoch:  191  ,Loss:  tensor(0.0101, grad_fn=<MseLossBackward0>)\n",
            "Epoch:  192  ,Loss:  tensor(0.0100, grad_fn=<MseLossBackward0>)\n",
            "Epoch:  193  ,Loss:  tensor(0.0099, grad_fn=<MseLossBackward0>)\n",
            "Epoch:  194  ,Loss:  tensor(0.0098, grad_fn=<MseLossBackward0>)\n",
            "Epoch:  195  ,Loss:  tensor(0.0097, grad_fn=<MseLossBackward0>)\n",
            "Epoch:  196  ,Loss:  tensor(0.0095, grad_fn=<MseLossBackward0>)\n",
            "Epoch:  197  ,Loss:  tensor(0.0094, grad_fn=<MseLossBackward0>)\n",
            "Epoch:  198  ,Loss:  tensor(0.0093, grad_fn=<MseLossBackward0>)\n",
            "Epoch:  199  ,Loss:  tensor(0.0092, grad_fn=<MseLossBackward0>)\n",
            "Epoch:  200  ,Loss:  tensor(0.0091, grad_fn=<MseLossBackward0>)\n"
          ]
        }
      ],
      "source": [
        "# optim_4 = Aperture_RT.optimize(intersection_points)"
      ]
    },
    {
      "cell_type": "code",
      "execution_count": null,
      "metadata": {
        "colab": {
          "background_save": true
        },
        "id": "LGlj7UaD9QXN"
      },
      "outputs": [],
      "source": [
        "# #save optimised array\n",
        "# path=\"/content/drive/MyDrive/Colab Notebooks/MASTERS PROJECT /Models/{optim_array_4.pt}\"\n",
        "# torch.save(optim_4[0][0], path)"
      ]
    },
    {
      "cell_type": "code",
      "execution_count": null,
      "metadata": {
        "colab": {
          "background_save": true
        },
        "id": "-H9KXKbM9R3u"
      },
      "outputs": [],
      "source": [
        "# Load Optimised array\n",
        "path=\"/content/drive/MyDrive/Colab Notebooks/MASTERS PROJECT /Models/{optim_array_4.pt}\"\n",
        "optim_array_4  = torch.load(path)"
      ]
    },
    {
      "cell_type": "code",
      "execution_count": null,
      "metadata": {
        "colab": {
          "background_save": true
        },
        "id": "WcGRoATI9UPk"
      },
      "outputs": [],
      "source": [
        "optimised_image, intersection =Aperture_RT.forward(optim_array_4,test_img_4)"
      ]
    },
    {
      "cell_type": "code",
      "execution_count": null,
      "metadata": {
        "colab": {
          "background_save": true
        },
        "id": "ITzXnAZu9WtZ",
        "outputId": "dd60f9f2-ede6-44fc-b63e-a1a1249319e7"
      },
      "outputs": [
        {
          "data": {
            "text/plain": [
              "Text(0.5, 1.0, 'Optimised image')"
            ]
          },
          "execution_count": 95,
          "metadata": {},
          "output_type": "execute_result"
        },
        {
          "data": {
            "image/png": "[encoded data removed]",
            "text/plain": [
              "<Figure size 1080x1080 with 4 Axes>"
            ]
          },
          "metadata": {},
          "output_type": "display_data"
        }
      ],
      "source": [
        "fig , axes=plt.subplots(1,4, figsize =(15, 15))\n",
        "\n",
        "axes[0].imshow(test_img_4, cmap='gray')\n",
        "axes[0].set_title('original sized image')\n",
        "\n",
        "axes[1].imshow(resize_image.cpu().squeeze(), cmap='gray')\n",
        "axes[1].set_title('Target Image')\n",
        "\n",
        "axes[2].imshow(ray_traced_image.detach().cpu().numpy()*255, cmap='gray')\n",
        "axes[2].set_title('Image ray traced through array')\n",
        "\n",
        "\n",
        "\n",
        "axes[3].imshow(optimised_image.detach().cpu().numpy()*255, cmap='gray')\n",
        "axes[3].set_title('Optimised image')\n",
        "# plt.colorbar()"
      ]
    },
    {
      "cell_type": "code",
      "execution_count": null,
      "metadata": {
        "colab": {
          "background_save": true
        },
        "id": "Bnd2F8AgJ990",
        "outputId": "776e1f57-4d71-40c1-fc40-2bc316ae7060"
      },
      "outputs": [
        {
          "data": {
            "image/png": "[encoded data removed]",
            "text/plain": [
              "<Figure size 432x288 with 1 Axes>"
            ]
          },
          "metadata": {},
          "output_type": "display_data"
        }
      ],
      "source": [
        "plt.imshow(optimised_image.detach().cpu().numpy()*255, cmap='gray')\n",
        "plt.savefig('/content/drive/MyDrive/Colab Notebooks/MASTERS PROJECT /Tests/Test_4/optimised_img.png',bbox_inches='tight',pad_inches = 0)\n",
        "plt.show()"
      ]
    },
    {
      "cell_type": "code",
      "execution_count": null,
      "metadata": {
        "id": "bJ174jPQKRF_"
      },
      "outputs": [],
      "source": []
    },
    {
      "cell_type": "markdown",
      "metadata": {
        "id": "fWweA7GD9bRa"
      },
      "source": [
        "## Using Optimised array for another image"
      ]
    },
    {
      "cell_type": "code",
      "execution_count": null,
      "metadata": {
        "id": "sj-u4dgI9bpK"
      },
      "outputs": [],
      "source": [
        "test_image = Image.open('/content/Test_image.png').convert('L')\n",
        "resized_im = transform(test_image).to(device)\n",
        "ray_traced_im =Aperture_RT.forward(optim_array.view(20,30),test_image)\n"
      ]
    },
    {
      "cell_type": "code",
      "execution_count": null,
      "metadata": {
        "id": "LiWckFyk9dzn"
      },
      "outputs": [],
      "source": [
        "fig , axes=plt.subplots(1,3, figsize =(15, 15))\n",
        "\n",
        "axes[0].imshow(test_image, cmap='gray')\n",
        "axes[0].set_title('original image')\n",
        "\n",
        "axes[1].imshow(resized_im.cpu().squeeze(), cmap='gray')\n",
        "axes[1].set_title('Resized image')\n",
        "\n",
        "axes[2].imshow(ray_traced_im.detach().cpu().numpy()*255, cmap='gray')\n",
        "axes[2].set_title('Image ray traced with optimised array')"
      ]
    },
    {
      "cell_type": "code",
      "execution_count": null,
      "metadata": {
        "id": "KsRrJxiQ9hBg"
      },
      "outputs": [],
      "source": [
        "import tensorflow as tf \n",
        "\n",
        "(x_train , y_train) , (x_test, y_test )= tf.keras.datasets.cifar10.load_data()"
      ]
    }
  ],
  "metadata": {
    "colab": {
      "collapsed_sections": [],
      "name": "ApertureRT_test_10.ipynb",
      "provenance": []
    },
    "kernelspec": {
      "display_name": "Python 3",
      "name": "python3"
    },
    "language_info": {
      "name": "python"
    }
  },
  "nbformat": 4,
  "nbformat_minor": 0
}
