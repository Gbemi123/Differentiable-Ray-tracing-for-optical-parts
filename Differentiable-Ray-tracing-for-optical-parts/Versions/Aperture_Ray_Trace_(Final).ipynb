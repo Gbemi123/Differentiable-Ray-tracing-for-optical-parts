{
  "cells": [
    {
      "cell_type": "code",
      "execution_count": 1,
      "metadata": {
        "colab": {
          "base_uri": "https://localhost:8080/",
          "height": 556
        },
        "id": "7A_68nRQ-Pg0",
        "outputId": "6022fb32-19d9-4dea-f2c1-f6e39bd602dd"
      },
      "outputs": [
        {
          "output_type": "stream",
          "name": "stdout",
          "text": [
            "Looking in indexes: https://pypi.org/simple, https://us-python.pkg.dev/colab-wheels/public/simple/\n",
            "Collecting git+https://github.com/kaanaksit/odak.git\n",
            "  Cloning https://github.com/kaanaksit/odak.git to /tmp/pip-req-build-v05b7lai\n",
            "  Running command git clone -q https://github.com/kaanaksit/odak.git /tmp/pip-req-build-v05b7lai\n",
            "Requirement already satisfied: numpy>=1.19.5 in /usr/local/lib/python3.7/dist-packages (from odak==0.2.1) (1.21.6)\n",
            "Requirement already satisfied: torch>=1.12.0 in /usr/local/lib/python3.7/dist-packages (from odak==0.2.1) (1.12.1+cu113)\n",
            "Collecting pillow>=8.1.2\n",
            "  Downloading Pillow-9.2.0-cp37-cp37m-manylinux_2_17_x86_64.manylinux2014_x86_64.whl (3.1 MB)\n",
            "\u001b[K     |████████████████████████████████| 3.1 MB 5.1 MB/s \n",
            "\u001b[?25hCollecting plyfile>=0.7.2\n",
            "  Downloading plyfile-0.7.4-py3-none-any.whl (39 kB)\n",
            "Requirement already satisfied: tqdm>=4.61.1 in /usr/local/lib/python3.7/dist-packages (from odak==0.2.1) (4.64.0)\n",
            "Requirement already satisfied: typing-extensions in /usr/local/lib/python3.7/dist-packages (from torch>=1.12.0->odak==0.2.1) (4.1.1)\n",
            "Building wheels for collected packages: odak\n",
            "  Building wheel for odak (setup.py) ... \u001b[?25l\u001b[?25hdone\n",
            "  Created wheel for odak: filename=odak-0.2.1-py3-none-any.whl size=117078 sha256=b39e57f3b6b53e8ac8efad5f8187af16096e88cbd9ed4d12a209ac206cb77e47\n",
            "  Stored in directory: /tmp/pip-ephem-wheel-cache-ozhufd7t/wheels/d5/00/3c/4e341f18b6968ce909001cd30304934b45bdbb5e38ae6c41b5\n",
            "Successfully built odak\n",
            "Installing collected packages: plyfile, pillow, odak\n",
            "  Attempting uninstall: pillow\n",
            "    Found existing installation: Pillow 7.1.2\n",
            "    Uninstalling Pillow-7.1.2:\n",
            "      Successfully uninstalled Pillow-7.1.2\n",
            "Successfully installed odak-0.2.1 pillow-9.2.0 plyfile-0.7.4\n"
          ]
        },
        {
          "output_type": "display_data",
          "data": {
            "application/vnd.colab-display-data+json": {
              "pip_warning": {
                "packages": [
                  "PIL"
                ]
              }
            }
          },
          "metadata": {}
        }
      ],
      "source": [
        "!pip install git+https://github.com/kaanaksit/odak.git"
      ]
    },
    {
      "cell_type": "code",
      "execution_count": 1,
      "metadata": {
        "id": "TOKZziua-QIH"
      },
      "outputs": [],
      "source": [
        "import odak\n",
        "import torch \n",
        "import numpy as np \n",
        "import odak.learn.raytracing as ODL\n",
        "import matplotlib.pyplot as plt\n",
        "import math\n",
        "import odak.raytracing as raytracer\n",
        "import odak.tools as tools\n",
        "import odak.raytracing as raytracer\n",
        "import torch.nn as nn\n",
        "from odak.raytracing.ray import create_ray\n",
        "import cv2\n",
        "from PIL import Image\n",
        "import sys\n",
        "import torch.optim as optim\n",
        "from torchvision import transforms\n",
        "from torch.nn import Module\n",
        "import math"
      ]
    },
    {
      "cell_type": "code",
      "execution_count": 19,
      "metadata": {
        "id": "Xxvvjms_-JAR"
      },
      "outputs": [],
      "source": [
        "\n",
        "class aperture_array():\n",
        "\n",
        "  def __init__(self, device):\n",
        "    self.device = device\n",
        "    self.init_light_sources()\n",
        "    self.init_aperture_array()\n",
        "    self.init_detector()\n",
        "   \n",
        "    \n",
        "\n",
        "  def transform_image(self, image):\n",
        "    \"\"\"\n",
        "    Resizes image, Transforms image to tensor and normalises image \n",
        "\n",
        "    Parmeters\n",
        "    ----------\n",
        "    Image     : Grayscale or Coloured PIL image\n",
        "\n",
        "    Returns\n",
        "    ---------\n",
        "    normalised_image    : Tesnor of normalised and resized image\n",
        "\n",
        "    \"\"\"\n",
        "\n",
        "    #If grayscale then:\n",
        "    if(len(np.array(image).shape)<3):\n",
        "\n",
        "      transform =transforms.Compose([\n",
        "        transforms.Resize((28,28)),\n",
        "        transforms.ToTensor(),\n",
        "        transforms.Normalize((0.5), (0.5))\n",
        "        \n",
        "      ])\n",
        "      im=transform(image)\n",
        "\n",
        "      normalised_image = im.view(-1,1).to(self.device)\n",
        "\n",
        "   \n",
        "    #If it is a colour image then:\n",
        "    elif int(np.array(image).shape[2]) == 3 or int(np.array(image).shape[2]) == 4: \n",
        "      \n",
        "      transform = transforms.Compose([\n",
        "          transforms.ToTensor(),\n",
        "          transforms.Resize((28,28)),\n",
        "\n",
        "      ])\n",
        "\n",
        "      pixel = np.asarray(image)\n",
        "      # convert from integers to floats\n",
        "      pixel = pixel.astype('float32')\n",
        "      # normalize to the range 0-1\n",
        "      pixel /= 255.0\n",
        "\n",
        "      im = torch.moveaxis(transform(pixel[:,:,:3]), 0,2)\n",
        "      normalised_image = im.view(-1,3).to(self.device)    \n",
        "    return normalised_image\n",
        "\n",
        "  # initialising light sources  \n",
        "  def init_light_sources(self, dimensions=[0.01, 0.015], pixel_count=[28,28], Z=0.):\n",
        "\n",
        "      \"\"\"\n",
        "      Defines the light sources locations   \n",
        "\n",
        "\n",
        "      \"\"\"\n",
        "      x = torch.linspace(-dimensions[0]/2., dimensions[0]/2., pixel_count[0])\n",
        "      y = torch.linspace(-dimensions[1]/2., dimensions[1]/2., pixel_count[1])\n",
        "      X, Y = torch.meshgrid(x, y, indexing='ij')\n",
        "      self.light_source_locations = torch.zeros(X.shape[0], X.shape[1], 3).to(self.device)\n",
        "      self.light_source_locations[:, :, 0] = X\n",
        "      self.light_source_locations[:, :, 1] = Y\n",
        "      self.light_source_locations[:, :, 2] = Z\n",
        "      \n",
        "    # Defining Array\n",
        "  def init_aperture_array(self, dimensions=[0.01, 0.015], pixel_count=[28,28], Z=0.01):\n",
        "\n",
        "        \"\"\"\n",
        "        Defines the aperture array and its locations\n",
        "\n",
        "        Returns\n",
        "        -------\n",
        "\n",
        "        self.aperture_array   : A 28 x 28 Tensor of random values\n",
        "                                \n",
        "\n",
        "        \"\"\"\n",
        "\n",
        "        x = torch.linspace(-dimensions[0]/2., dimensions[0]/2., pixel_count[0])\n",
        "        y = torch.linspace(-dimensions[1]/2., dimensions[1]/2., pixel_count[1])\n",
        "        X, Y = torch.meshgrid(x, y, indexing='ij')\n",
        "        self.aperture_array_locations = torch.zeros(X.shape[0], X.shape[1], 3).to(self.device)\n",
        "        self.aperture_array_locations[:, :, 0] = X\n",
        "        self.aperture_array_locations[:, :, 1] = Y\n",
        "        self.aperture_array_locations[:, :, 2] = Z\n",
        "        self.aperture_array = torch.rand(X.shape[0], X.shape[1], requires_grad=True, device=self.device) \n",
        "\n",
        "        return self.aperture_array\n",
        "        \n",
        "    # Defining plane   \n",
        "  def init_detector(self, dimensions=[0.01, 0.015], size=[28,28], Z=0.01):\n",
        "        \"\"\"\n",
        "        Defines planar surface\n",
        "\n",
        "        \"\"\"\n",
        "\n",
        "        point = torch.tensor([0., 0., Z]).to(self.device)\n",
        "        self.detector_surface = odak.learn.raytracing.define_plane(point)\n",
        "        \n",
        "  # Forming image on detector surface\n",
        "  def intersection_points_to_image(self, points, amplitudes, threshold, norm_image):\n",
        "        \"\"\"\n",
        "        Displays image generated from the intersection points from ray tracing \n",
        "        \n",
        "        Paremeters\n",
        "        ----------\n",
        "        \n",
        "        points  : Tensor containing intersection point of the ray on the planar surface\n",
        "\n",
        "        amplitudes:  Tensor of the aperture array \n",
        "\n",
        "        threshold:  1x1 Tensor of the distance between pixels on the detector surface\n",
        "\n",
        "        norm_image   : Tensor of the normalised and resized image\n",
        "\n",
        "        Returns\n",
        "        ---------\n",
        "\n",
        "        detector_image  : Tensor containing the image formed from intersection points on the image plane\n",
        "        \"\"\"\n",
        "        Points_data= norm_image * amplitudes\n",
        "        detector = torch.zeros_like(norm_image).to(self.device)\n",
        "        array_locations = self.aperture_array_locations.view(-1, 3)\n",
        "\n",
        "  \n",
        "        for idx, point in enumerate(points):\n",
        "            \n",
        "            dist_btwn_array_npoint = torch.sqrt(torch.sum((array_locations-point)**2, dim=1))\n",
        "            min_dist_idx  = torch.argmin(dist_btwn_array_npoint)\n",
        "            min_dist = torch.min(dist_btwn_array_npoint)\n",
        "\n",
        "            if min_dist < (math.sqrt(2) * threshold):\n",
        "              detector[min_dist_idx] = Points_data[idx]\n",
        "\n",
        "        detector +=detector\n",
        "\n",
        "        # resizing depending on if image is colour or grayscale\n",
        "       \n",
        "        if int(norm_image.size()[1]) == 3: \n",
        "          detector_image  = detector.view(28,28,3).to(self.device)\n",
        "        else:\n",
        "          detector_image  = detector.view(28,28).to(self.device)  \n",
        "              \n",
        "        return detector_image\n",
        "\n",
        "  # Forward to do ray tracing return intersection points and get image\n",
        "  def forward(self, array, image):\n",
        "\n",
        "        \"\"\"\n",
        "        Calculates the intersection points of the ray with the planar surface\n",
        "        and returns the resultant image\n",
        "\n",
        "        Parameters\n",
        "        ----------\n",
        "\n",
        "        array:   Tensor containing the aperture array \n",
        "\n",
        "        image:  PIL image \n",
        "\n",
        "        Returns\n",
        "        --------\n",
        "        detector_image:   Tensor of resultant image from ray tracing \n",
        "        \n",
        "        intersections:    List containing the intersection points of the ray with the plane\n",
        "\n",
        "        \"\"\"\n",
        "\n",
        "        light_source_locations = self.light_source_locations.view(-1, 3)\n",
        "\n",
        "        aperture_array_locations = self.aperture_array_locations.view(-1, 3)\n",
        "\n",
        "        self.pixel_pitch = torch.sqrt(torch.sum((aperture_array_locations[1] - aperture_array_locations[0])**2, dim =0)).to(self.device)\n",
        "\n",
        "        aperture_array = array.view(-1,1).to(self.device)\n",
        "        \n",
        "        self.norm_img = self.transform_image(image) \n",
        "        \n",
        "        intersections = []\n",
        "        \n",
        "        for light_source_location in light_source_locations:\n",
        "            rays_from_light_source = odak.learn.raytracing.create_ray_from_two_points(light_source_location, aperture_array_locations)\n",
        "\n",
        "             # calculating intersection points\n",
        "            intersection_normals_w_detector, _ = odak.learn.raytracing.intersect_w_surface(rays_from_light_source, self.detector_surface)\n",
        "            intersection_points_w_detector = intersection_normals_w_detector[:, 0]\n",
        "            intersections.append(intersection_points_w_detector)\n",
        "            \n",
        "            \n",
        "        # Getting the image seen on the image plane\n",
        "        image=list(map(self.intersection_points_to_image,intersections,[aperture_array],[self.pixel_pitch],[self.norm_img] ))\n",
        "        detector_image =  image[0]\n",
        "        \n",
        "        return detector_image, intersections\n",
        "\n",
        "  def compute_loss(self, output , target):\n",
        "    \"\"\"\n",
        "    Calculates the mean square error between two values\n",
        "    \n",
        "    Parameters\n",
        "    ----------\n",
        "\n",
        "    output:   Tensor of image from ray tracing \n",
        "\n",
        "    target:   Tensor of the normalised input image \n",
        "\n",
        "    Returns\n",
        "    ---------\n",
        "\n",
        "    loss:  Tensor of the mean squared loss value \n",
        "    \n",
        "    \"\"\"\n",
        "\n",
        "    loss = torch.nn.MSELoss()(output, target)\n",
        "\n",
        "    return loss\n",
        "            \n",
        "  def optimize(self, intersection_points):\n",
        "\n",
        "        \"\"\"\n",
        "        Optimises the aperture array with stochastic gradient descent \n",
        "\n",
        "        Parameters\n",
        "        ----------\n",
        "\n",
        "        intersection_points:  List containing the intersection points of the ray with the plane\n",
        "\n",
        "        Returns\n",
        "        ---------\n",
        "        model:    Tensor of the optimised array \n",
        "        \n",
        "        history:  List containing loss value in every iteration        \n",
        "\n",
        "        \"\"\"\n",
        "        \n",
        "       \n",
        "        if int( self.norm_img.size()[1]) == 3: \n",
        "          target  = self.norm_img.view(28,28,3)\n",
        "        else:\n",
        "          target  = self.norm_img.view(28,28) \n",
        "\n",
        "        array = self.aperture_array.view(-1,1)\n",
        "        array_loc = self.aperture_array_locations\n",
        "\n",
        "        model = [nn.Parameter(array)]\n",
        "\n",
        "        points= intersection_points\n",
        "        threshold= self.pixel_pitch\n",
        "\n",
        "       \n",
        "        optimiser= torch.optim.SGD(model,lr = 0.5,momentum=0.9)\n",
        "        epochs= 100\n",
        "\n",
        "        history =[]\n",
        "\n",
        "        for epoch in range(0, epochs+1):\n",
        "          optimiser.zero_grad()\n",
        "          \n",
        "          output=self.intersection_points_to_image(points, model[0], threshold, self.norm_img)\n",
        "          loss = self.compute_loss(output,target)\n",
        "            \n",
        "          loss.backward()\n",
        "          optimiser.step()\n",
        "\n",
        "          print('Epoch: ', epoch,' ,Loss: ', loss)\n",
        "          history.append(loss)\n",
        "          \n",
        "        return model, history\n",
        "  \n",
        "def main():\n",
        "    device = torch.device('cuda')\n",
        "    apertures = aperture_array(device=device)\n",
        "    result = apertures.optimize()\n",
        "    return True\n",
        "\n",
        "\n",
        "\n",
        "\n",
        "\n"
      ]
    },
    {
      "cell_type": "markdown",
      "metadata": {
        "id": "H3iHfbIgGsco"
      },
      "source": [
        "## Calling the module and setting the device to 'cuda'"
      ]
    },
    {
      "cell_type": "code",
      "execution_count": 20,
      "metadata": {
        "id": "T_MFOL7j9sL5"
      },
      "outputs": [],
      "source": [
        "device = torch.device('cuda' if torch.cuda.is_available() else 'cpu')\n",
        "Aperture_RT= aperture_array(device)"
      ]
    },
    {
      "cell_type": "markdown",
      "metadata": {
        "id": "c0OvSjU-Gz2O"
      },
      "source": [
        "# Retriving test Image"
      ]
    },
    {
      "cell_type": "code",
      "execution_count": 33,
      "metadata": {
        "id": "5rLERDS6w5M-"
      },
      "outputs": [],
      "source": [
        "#Image preprocessing \n",
        "\n",
        "test_im_5 = Image.open('/content/heart.png')\n",
        "\n",
        "pixel = np.asarray(test_im_5)\n",
        "\n",
        "# convert from integers to floats\n",
        "pixel = pixel.astype('float32')\n",
        "# normalize to the range 0-1\n",
        "pixel /= 255.0\n",
        "# test_im_5 = pixel[:,:,:3]\n",
        "# test_im_5 = Image.fromarray(np.uint8(pixel))\n",
        "\n",
        "\n",
        "transform = transforms.Compose([\n",
        "    transforms.ToTensor(),\n",
        "    transforms.Resize((28, 28)),\n",
        "\n",
        "])\n",
        "\n",
        "resize_image = torch.moveaxis(transform(pixel[:,:,:3]).to(device), 0,2)\n",
        "\n"
      ]
    },
    {
      "cell_type": "code",
      "execution_count": 34,
      "metadata": {
        "id": "qpyfYTeYMWD2"
      },
      "outputs": [],
      "source": [
        "array = Aperture_RT.init_aperture_array()# initial value of the aperture array yet to be optimised\n",
        "ray_traced_image_5, intersection_points= Aperture_RT.forward(array,test_im_5)"
      ]
    },
    {
      "cell_type": "code",
      "execution_count": 35,
      "metadata": {
        "colab": {
          "base_uri": "https://localhost:8080/",
          "height": 284
        },
        "id": "6_IvKOufEhkh",
        "outputId": "6f63350b-5ad1-4311-f013-6fb503da8d01"
      },
      "outputs": [
        {
          "output_type": "stream",
          "name": "stderr",
          "text": [
            "WARNING:matplotlib.image:Clipping input data to the valid range for imshow with RGB data ([0..1] for floats or [0..255] for integers).\n"
          ]
        },
        {
          "output_type": "execute_result",
          "data": {
            "text/plain": [
              "Text(0.5, 1.0, 'Image ray traced through array')"
            ]
          },
          "metadata": {},
          "execution_count": 35
        },
        {
          "output_type": "display_data",
          "data": {
            "text/plain": [
              "<Figure size 1080x1080 with 3 Axes>"
            ],
            "image/png": "[encoded data removed]"
          },
          "metadata": {
            "needs_background": "light"
          }
        }
      ],
      "source": [
        "fig , axes=plt.subplots(1,3, figsize =(15, 15))\n",
        "\n",
        "axes[0].imshow(resize_image.cpu().numpy())\n",
        "axes[0].set_title('original sized image')\n",
        "\n",
        "axes[1].imshow(resize_image.cpu().numpy())\n",
        "axes[1].set_title('Target Image')\n",
        "\n",
        "axes[2].imshow(ray_traced_image_5.detach().cpu().numpy())\n",
        "axes[2].set_title('Image ray traced through array')"
      ]
    },
    {
      "cell_type": "code",
      "source": [
        "plt.imshow(array.detach().cpu().numpy(), cmap='gray')\n",
        "plt.axis('off')\n",
        "plt.title('Randomised aperture array')"
      ],
      "metadata": {
        "colab": {
          "base_uri": "https://localhost:8080/",
          "height": 282
        },
        "id": "pIWuS-0Q415W",
        "outputId": "4cdab53c-eeb4-480f-8adb-7e1d37212ae9"
      },
      "execution_count": 22,
      "outputs": [
        {
          "output_type": "execute_result",
          "data": {
            "text/plain": [
              "Text(0.5, 1.0, 'Randomised aperture array')"
            ]
          },
          "metadata": {},
          "execution_count": 22
        },
        {
          "output_type": "display_data",
          "data": {
            "text/plain": [
              "<Figure size 432x288 with 1 Axes>"
            ],
            "image/png": "[encoded data removed]"
          },
          "metadata": {
            "needs_background": "light"
          }
        }
      ]
    },
    {
      "cell_type": "code",
      "execution_count": null,
      "metadata": {
        "colab": {
          "base_uri": "https://localhost:8080/"
        },
        "id": "Muoq5-AWI3Gl",
        "outputId": "bd54eae7-1e47-43ec-f473-4c53f26914be"
      },
      "outputs": [
        {
          "output_type": "stream",
          "name": "stdout",
          "text": [
            "The initial loss is:  tensor(0.0073, device='cuda:0', grad_fn=<MseLossBackward0>)\n"
          ]
        }
      ],
      "source": [
        "Loss = Aperture_RT.compute_loss(ray_traced_image_5, resize_image)\n",
        "print('The initial loss is: ',Loss)"
      ]
    },
    {
      "cell_type": "markdown",
      "metadata": {
        "id": "YaAPYc12C7H7"
      },
      "source": [
        "# Optimising the array "
      ]
    },
    {
      "cell_type": "code",
      "execution_count": null,
      "metadata": {
        "id": "3OiZGjIoIo0l"
      },
      "outputs": [],
      "source": [
        "# optim = Aperture_RT.optimize(intersection_points)\n"
      ]
    },
    {
      "cell_type": "code",
      "execution_count": null,
      "metadata": {
        "id": "QaejCSWB35Tt"
      },
      "outputs": [],
      "source": [
        "# # save optimised array\n",
        "# path=\"/content/drive/MyDrive/Colab Notebooks/MASTERS PROJECT /Models/{optim_array_5.pt}\"\n",
        "# torch.save(optim[0][0], path)"
      ]
    },
    {
      "cell_type": "code",
      "execution_count": 26,
      "metadata": {
        "id": "q8oAt_GECgIU"
      },
      "outputs": [],
      "source": [
        "# Load Optimised array\n",
        "path=\"/content/drive/MyDrive/Colab Notebooks/MASTERS PROJECT /Models/{optim_array_1.pt}\"\n",
        "optim_array_1  = torch.load(path)\n"
      ]
    },
    {
      "cell_type": "code",
      "execution_count": 28,
      "metadata": {
        "id": "49vRU_IOUgWx"
      },
      "outputs": [],
      "source": [
        "optimised_image_5, intersection_points=Aperture_RT.forward(optim_array_1,test_im_5)"
      ]
    },
    {
      "cell_type": "code",
      "execution_count": 36,
      "metadata": {
        "id": "usAWKo-vIeir",
        "colab": {
          "base_uri": "https://localhost:8080/",
          "height": 256
        },
        "outputId": "ae22806a-c37a-4cad-d691-e2bedaecf243"
      },
      "outputs": [
        {
          "output_type": "stream",
          "name": "stderr",
          "text": [
            "WARNING:matplotlib.image:Clipping input data to the valid range for imshow with RGB data ([0..1] for floats or [0..255] for integers).\n",
            "WARNING:matplotlib.image:Clipping input data to the valid range for imshow with RGB data ([0..1] for floats or [0..255] for integers).\n"
          ]
        },
        {
          "output_type": "execute_result",
          "data": {
            "text/plain": [
              "Text(0.5, 1.0, 'Optimised image')"
            ]
          },
          "metadata": {},
          "execution_count": 36
        },
        {
          "output_type": "display_data",
          "data": {
            "text/plain": [
              "<Figure size 1080x1080 with 4 Axes>"
            ],
            "image/png": "[encoded data removed]"
          },
          "metadata": {
            "needs_background": "light"
          }
        }
      ],
      "source": [
        "fig , axes=plt.subplots(1,4, figsize =(15, 15))\n",
        "\n",
        "axes[0].imshow(test_im_5, cmap='gray')\n",
        "axes[0].set_title('original sized image')\n",
        "\n",
        "axes[1].imshow(resize_image.cpu().numpy(), cmap='gray')\n",
        "axes[1].set_title('Target Image')\n",
        "\n",
        "axes[2].imshow(ray_traced_image_5.detach().cpu().numpy())\n",
        "axes[2].set_title('Image ray traced through array')\n",
        "\n",
        "\n",
        "axes[3].imshow(optimised_image_5.detach().cpu().numpy())\n",
        "axes[3].set_title('Optimised image')\n"
      ]
    },
    {
      "cell_type": "code",
      "execution_count": 37,
      "metadata": {
        "id": "kS75EzyaGXzH",
        "colab": {
          "base_uri": "https://localhost:8080/"
        },
        "outputId": "9eec93d9-ea04-43e4-90b7-aecc049ba850"
      },
      "outputs": [
        {
          "output_type": "stream",
          "name": "stdout",
          "text": [
            "The loss after optimisation is:  tensor(0.0005, device='cuda:0', grad_fn=<MseLossBackward0>)\n"
          ]
        }
      ],
      "source": [
        "# calculating error between ray traced image and optimised array\n",
        "Loss = Aperture_RT.compute_loss(optimised_image_5, resize_image.squeeze())\n",
        "print('The loss after optimisation is: ',Loss)"
      ]
    },
    {
      "cell_type": "markdown",
      "source": [
        "# Plot Convergence History "
      ],
      "metadata": {
        "id": "OrqWV6rNKau8"
      }
    },
    {
      "cell_type": "code",
      "source": [
        "plt.plot(optim[1])\n",
        "plt.title('Convergence History')\n",
        "plt.grid()\n",
        "plt .xlabel('Iteration')\n",
        "plt.ylabel('MSE Loss')\n",
        "plt.savefig('/content/drive/MyDrive/Colab Notebooks/MASTERS PROJECT /Tests/Test_5/Convergence_history.png')\n",
        "plt.show()"
      ],
      "metadata": {
        "colab": {
          "base_uri": "https://localhost:8080/",
          "height": 295
        },
        "id": "BEQ6mIQdKfGz",
        "outputId": "d3cb2e1e-3e0b-4596-e71a-9d8b9182f907"
      },
      "execution_count": null,
      "outputs": [
        {
          "output_type": "display_data",
          "data": {
            "text/plain": [
              "<Figure size 432x288 with 1 Axes>"
            ],
            "image/png": "[encoded data removed]"
          },
          "metadata": {
            "needs_background": "light"
          }
        }
      ]
    }
  ],
  "metadata": {
    "accelerator": "GPU",
    "colab": {
      "collapsed_sections": [],
      "provenance": [],
      "machine_shape": "hm"
    },
    "gpuClass": "standard",
    "kernelspec": {
      "display_name": "Python 3",
      "name": "python3"
    },
    "language_info": {
      "name": "python"
    }
  },
  "nbformat": 4,
  "nbformat_minor": 0
}
