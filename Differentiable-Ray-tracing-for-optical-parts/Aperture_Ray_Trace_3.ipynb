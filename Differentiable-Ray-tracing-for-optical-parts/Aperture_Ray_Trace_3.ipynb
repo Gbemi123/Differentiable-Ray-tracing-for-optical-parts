{
  "nbformat": 4,
  "nbformat_minor": 0,
  "metadata": {
    "colab": {
      "name": "Aperture_Ray_Trace_3.ipynb",
      "provenance": [],
      "collapsed_sections": []
    },
    "kernelspec": {
      "name": "python3",
      "display_name": "Python 3"
    },
    "language_info": {
      "name": "python"
    },
    "accelerator": "GPU",
    "gpuClass": "standard"
  },
  "cells": [
    {
      "cell_type": "code",
      "source": [
        "!pip install git+https://github.com/kunguz/odak.git"
      ],
      "metadata": {
        "colab": {
          "base_uri": "https://localhost:8080/",
          "height": 575
        },
        "id": "7A_68nRQ-Pg0",
        "outputId": "5304f087-067f-41e8-eb72-b4f601e7ff9a"
      },
      "execution_count": 1,
      "outputs": [
        {
          "output_type": "stream",
          "name": "stdout",
          "text": [
            "Looking in indexes: https://pypi.org/simple, https://us-python.pkg.dev/colab-wheels/public/simple/\n",
            "Collecting git+https://github.com/kunguz/odak.git\n",
            "  Cloning https://github.com/kunguz/odak.git to /tmp/pip-req-build-zw0it6qd\n",
            "  Running command git clone -q https://github.com/kunguz/odak.git /tmp/pip-req-build-zw0it6qd\n",
            "Requirement already satisfied: numpy>=1.19.5 in /usr/local/lib/python3.7/dist-packages (from odak==0.2.1) (1.21.6)\n",
            "Requirement already satisfied: torch>=1.11.0 in /usr/local/lib/python3.7/dist-packages (from odak==0.2.1) (1.11.0+cu113)\n",
            "Collecting pillow>=8.1.2\n",
            "  Downloading Pillow-9.2.0-cp37-cp37m-manylinux_2_17_x86_64.manylinux2014_x86_64.whl (3.1 MB)\n",
            "\u001b[K     |████████████████████████████████| 3.1 MB 11.6 MB/s \n",
            "\u001b[?25hCollecting plyfile>=0.7.2\n",
            "  Downloading plyfile-0.7.4-py3-none-any.whl (39 kB)\n",
            "Requirement already satisfied: tqdm>=4.61.1 in /usr/local/lib/python3.7/dist-packages (from odak==0.2.1) (4.64.0)\n",
            "Requirement already satisfied: typing-extensions in /usr/local/lib/python3.7/dist-packages (from torch>=1.11.0->odak==0.2.1) (4.1.1)\n",
            "Building wheels for collected packages: odak\n",
            "  Building wheel for odak (setup.py) ... \u001b[?25l\u001b[?25hdone\n",
            "  Created wheel for odak: filename=odak-0.2.1-py3-none-any.whl size=114974 sha256=bc328890fd75d877aefb40c423a7954e65feb0fdab0b1026488e8c6438860c47\n",
            "  Stored in directory: /tmp/pip-ephem-wheel-cache-x8pudjfg/wheels/5b/1f/1a/1d2de547c1d893422b054c9aea06da6ce4efbf401114444959\n",
            "Successfully built odak\n",
            "Installing collected packages: plyfile, pillow, odak\n",
            "  Attempting uninstall: pillow\n",
            "    Found existing installation: Pillow 7.1.2\n",
            "    Uninstalling Pillow-7.1.2:\n",
            "      Successfully uninstalled Pillow-7.1.2\n",
            "\u001b[31mERROR: pip's dependency resolver does not currently take into account all the packages that are installed. This behaviour is the source of the following dependency conflicts.\n",
            "albumentations 0.1.12 requires imgaug<0.2.7,>=0.2.5, but you have imgaug 0.2.9 which is incompatible.\u001b[0m\n",
            "Successfully installed odak-0.2.1 pillow-9.2.0 plyfile-0.7.4\n"
          ]
        },
        {
          "output_type": "display_data",
          "data": {
            "application/vnd.colab-display-data+json": {
              "pip_warning": {
                "packages": [
                  "PIL"
                ]
              }
            }
          },
          "metadata": {}
        }
      ]
    },
    {
      "cell_type": "code",
      "source": [
        "import odak\n",
        "import torch \n",
        "import numpy as np \n",
        "import sys\n",
        "import odak.learn.raytracing as ODL\n",
        "import matplotlib.pyplot as plt\n",
        "import math\n",
        "import odak.raytracing as raytracer\n",
        "import odak.tools as tools\n",
        "import odak.raytracing as raytracer\n",
        "from odak.raytracing.ray import create_ray\n",
        "import cv2\n",
        "import sys"
      ],
      "metadata": {
        "id": "TOKZziua-QIH"
      },
      "execution_count": 2,
      "outputs": []
    },
    {
      "cell_type": "code",
      "source": [
        "device = torch.device('cuda')"
      ],
      "metadata": {
        "id": "ik8-o4ao-TIT"
      },
      "execution_count": 3,
      "outputs": []
    },
    {
      "cell_type": "code",
      "execution_count": 25,
      "metadata": {
        "id": "Xxvvjms_-JAR"
      },
      "outputs": [],
      "source": [
        "import sys\n",
        "class aperture_array():\n",
        "\n",
        "  def __init__(self, device):\n",
        "    self.device = device\n",
        "    self.init_light_sources()\n",
        "    self.init_aperture_array()\n",
        "    self.init_detector()\n",
        "  \n",
        "  def init_light_sources(self, dimensions=[0.01, 0.015], pixel_count=[20, 30], Z=0.):\n",
        "      x = torch.linspace(-dimensions[0]/2., dimensions[0]/2., pixel_count[0])\n",
        "      y = torch.linspace(-dimensions[1]/2., dimensions[1]/2., pixel_count[1])\n",
        "      X, Y = torch.meshgrid(x, y, indexing='ij')\n",
        "      self.light_source_locations = torch.zeros(X.shape[0], X.shape[1], 3).to(self.device)\n",
        "      self.light_source_locations[:, :, 0] = X\n",
        "      self.light_source_locations[:, :, 1] = Y\n",
        "      self.light_source_locations[:, :, 2] = Z\n",
        "      \n",
        "      \n",
        "  def init_aperture_array(self, dimensions=[0.01, 0.015], pixel_count=[20, 30], Z=0.01):\n",
        "        x = torch.linspace(-dimensions[0]/2., dimensions[0]/2., pixel_count[0])\n",
        "        y = torch.linspace(-dimensions[1]/2., dimensions[1]/2., pixel_count[1])\n",
        "        X, Y = torch.meshgrid(x, y, indexing='ij')\n",
        "        self.aperture_array_locations = torch.zeros(X.shape[0], X.shape[1], 3).to(self.device)\n",
        "        self.aperture_array_locations[:, :, 0] = X\n",
        "        self.aperture_array_locations[:, :, 1] = Y\n",
        "        self.aperture_array_locations[:, :, 2] = Z\n",
        "        self.aperture_array = torch.rand(X.shape[0], X.shape[1], requires_grad=True).to(self.device) # makes it differentiable\n",
        "        \n",
        "  def init_detector(self, dimensions=[0.01, 0.015], pixel_count=[20, 30], Z=0.05):\n",
        "        points = torch.tensor([0., 0, Z]).to(self.device)\n",
        "        self.detector_surface = odak.learn.raytracing.define_plane(points)\n",
        "        # Locations of my pixels on my detector could be defined here.\n",
        "        \n",
        "  def intersection_points_to_image(self, points, amplitudes):\n",
        "        # Intersection points and paint an image on a detector?\n",
        "\n",
        "        xKernshape=amplitudes.shape[0]\n",
        "        # yKernshape= amplitudes.shape[1]\n",
        "\n",
        "        xpointShape=points.shape[0]/2\n",
        "        # ypointShape = points.shape[1]/2\n",
        "\n",
        "        xoffset= int(xpointShape-xKernshape)\n",
        "        # yoffset=int(ypointShape-yKernshape)\n",
        "\n",
        "        # Padding the kernel to be the same shape as the image\n",
        "        Kernel= torch.zeros_like(points)\n",
        "        Kernel[xoffset:xoffset+xKernshape,:]= amplitudes\n",
        "\n",
        "        fft_point= torch.abs(torch.fft.fftshift(torch.fft.fft2(torch.fft.fftshift(Kernel))))\n",
        "        fft_amp= torch.abs(torch.fft.fftshift(torch.fft.fft2(torch.fft.fftshift(points))))\n",
        "\n",
        "       \n",
        "        \n",
        "\n",
        "        fft_mul = torch.mul(fft_point,fft_amp) #----> Remove this and write the proper piece of code here.\n",
        "\n",
        "        detector= torch.real(torch.fft.fftshift(torch.fft.ifft2(torch.fft.fftshift(fft_mul))))\n",
        "       \n",
        "        return detector\n",
        "  \n",
        "  def forward(self):\n",
        "        light_source_locations = self.light_source_locations.view(-1, 3)\n",
        "        aperture_array_locations = self.aperture_array_locations.view(-1, 3)\n",
        "\n",
        "        aperture_array = self.aperture_array.view(-1, 3)\n",
        "        #print(aperture_array.shape)\n",
        "        for light_source_location in light_source_locations:\n",
        "            rays_from_light_source = odak.learn.raytracing.create_ray_from_two_points(light_source_location, aperture_array_locations)\n",
        "            intersection_normals_w_detector, _ = odak.learn.raytracing.intersect_w_surface(rays_from_light_source, self.detector_surface)\n",
        "            intersection_points_w_detector = intersection_normals_w_detector[:, 0]\n",
        "            detector_image = self.intersection_points_to_image(\n",
        "                                                                intersection_points_w_detector,\n",
        "                                                                aperture_array\n",
        "                                                              )\n",
        "            \n",
        "        return detector_image\n",
        "            \n",
        "  def optimize(self):\n",
        "        self.forward()\n",
        "        return None\n",
        "  \n",
        "def main():\n",
        "    device = torch.device('cuda')\n",
        "    apertures = aperture_array(device=device)\n",
        "    result = apertures.optimize()\n",
        "    return True\n",
        "\n",
        "\n",
        "# if __name__ == '__main__':\n",
        "#     sys.exit(main())\n",
        "\n",
        "# if __name__ == '__main__':\n",
        "#   sys.exit(main())\n",
        "\n",
        "\n",
        "yes= aperture_array('cuda')\n",
        "final_im= yes.forward()\n",
        "\n"
      ]
    },
    {
      "cell_type": "code",
      "source": [
        "new_im=final_im.view(20,30, 3)\n",
        "new_im = new_im.detach().cpu().numpy()\n",
        "plt.imshow(np.real(new_im))"
      ],
      "metadata": {
        "colab": {
          "base_uri": "https://localhost:8080/",
          "height": 300
        },
        "id": "YssaxTJQ-VMV",
        "outputId": "8d448afe-9135-4d30-cf97-f60827ec2601"
      },
      "execution_count": 26,
      "outputs": [
        {
          "output_type": "stream",
          "name": "stderr",
          "text": [
            "Clipping input data to the valid range for imshow with RGB data ([0..1] for floats or [0..255] for integers).\n"
          ]
        },
        {
          "output_type": "execute_result",
          "data": {
            "text/plain": [
              "<matplotlib.image.AxesImage at 0x7fa07f035d90>"
            ]
          },
          "metadata": {},
          "execution_count": 26
        },
        {
          "output_type": "display_data",
          "data": {
            "text/plain": [
              "<Figure size 432x288 with 1 Axes>"
            ],
            "image/png": "[encoded data removed]"
          },
          "metadata": {
            "needs_background": "light"
          }
        }
      ]
    },
    {
      "cell_type": "code",
      "source": [
        ""
      ],
      "metadata": {
        "id": "yBlXgljE-y4l"
      },
      "execution_count": 5,
      "outputs": []
    }
  ]
}