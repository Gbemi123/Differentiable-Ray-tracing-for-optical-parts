{
  "nbformat": 4,
  "nbformat_minor": 0,
  "metadata": {
    "colab": {
      "name": "Aperture_Ray_Trace_4.ipynb",
      "provenance": [],
      "collapsed_sections": []
    },
    "kernelspec": {
      "name": "python3",
      "display_name": "Python 3"
    },
    "language_info": {
      "name": "python"
    },
    "accelerator": "GPU",
    "gpuClass": "standard"
  },
  "cells": [
    {
      "cell_type": "code",
      "source": [
        "!pip install git+https://github.com/kunguz/odak.git"
      ],
      "metadata": {
        "colab": {
          "base_uri": "https://localhost:8080/",
          "height": 575
        },
        "id": "7A_68nRQ-Pg0",
        "outputId": "c324c4b6-8437-4a39-e4e0-ff27f7db18c1"
      },
      "execution_count": 1,
      "outputs": [
        {
          "output_type": "stream",
          "name": "stdout",
          "text": [
            "Looking in indexes: https://pypi.org/simple, https://us-python.pkg.dev/colab-wheels/public/simple/\n",
            "Collecting git+https://github.com/kunguz/odak.git\n",
            "  Cloning https://github.com/kunguz/odak.git to /tmp/pip-req-build-2yplqkwk\n",
            "  Running command git clone -q https://github.com/kunguz/odak.git /tmp/pip-req-build-2yplqkwk\n",
            "Requirement already satisfied: numpy>=1.19.5 in /usr/local/lib/python3.7/dist-packages (from odak==0.2.1) (1.21.6)\n",
            "Requirement already satisfied: torch>=1.12.0 in /usr/local/lib/python3.7/dist-packages (from odak==0.2.1) (1.12.0+cu113)\n",
            "Collecting pillow>=8.1.2\n",
            "  Downloading Pillow-9.2.0-cp37-cp37m-manylinux_2_17_x86_64.manylinux2014_x86_64.whl (3.1 MB)\n",
            "\u001b[K     |████████████████████████████████| 3.1 MB 22.8 MB/s \n",
            "\u001b[?25hCollecting plyfile>=0.7.2\n",
            "  Downloading plyfile-0.7.4-py3-none-any.whl (39 kB)\n",
            "Requirement already satisfied: tqdm>=4.61.1 in /usr/local/lib/python3.7/dist-packages (from odak==0.2.1) (4.64.0)\n",
            "Requirement already satisfied: typing-extensions in /usr/local/lib/python3.7/dist-packages (from torch>=1.12.0->odak==0.2.1) (4.1.1)\n",
            "Building wheels for collected packages: odak\n",
            "  Building wheel for odak (setup.py) ... \u001b[?25l\u001b[?25hdone\n",
            "  Created wheel for odak: filename=odak-0.2.1-py3-none-any.whl size=116476 sha256=4d340f9a3e67787e40a2a4fd7b201f7650acaa88d43d9134f61aa005ef955f32\n",
            "  Stored in directory: /tmp/pip-ephem-wheel-cache-wsc58efs/wheels/5b/1f/1a/1d2de547c1d893422b054c9aea06da6ce4efbf401114444959\n",
            "Successfully built odak\n",
            "Installing collected packages: plyfile, pillow, odak\n",
            "  Attempting uninstall: pillow\n",
            "    Found existing installation: Pillow 7.1.2\n",
            "    Uninstalling Pillow-7.1.2:\n",
            "      Successfully uninstalled Pillow-7.1.2\n",
            "\u001b[31mERROR: pip's dependency resolver does not currently take into account all the packages that are installed. This behaviour is the source of the following dependency conflicts.\n",
            "albumentations 0.1.12 requires imgaug<0.2.7,>=0.2.5, but you have imgaug 0.2.9 which is incompatible.\u001b[0m\n",
            "Successfully installed odak-0.2.1 pillow-9.2.0 plyfile-0.7.4\n"
          ]
        },
        {
          "output_type": "display_data",
          "data": {
            "application/vnd.colab-display-data+json": {
              "pip_warning": {
                "packages": [
                  "PIL"
                ]
              }
            }
          },
          "metadata": {}
        }
      ]
    },
    {
      "cell_type": "code",
      "source": [
        "import odak\n",
        "import torch \n",
        "import numpy as np \n",
        "import sys\n",
        "import odak.learn.raytracing as ODL\n",
        "import matplotlib.pyplot as plt\n",
        "import math\n",
        "import odak.raytracing as raytracer\n",
        "import odak.tools as tools\n",
        "import odak.raytracing as raytracer\n",
        "from odak.raytracing.ray import create_ray\n",
        "import cv2\n",
        "import sys"
      ],
      "metadata": {
        "id": "TOKZziua-QIH"
      },
      "execution_count": 2,
      "outputs": []
    },
    {
      "cell_type": "code",
      "source": [
        "device = torch.device('cuda')"
      ],
      "metadata": {
        "id": "ik8-o4ao-TIT"
      },
      "execution_count": 3,
      "outputs": []
    },
    {
      "cell_type": "code",
      "source": [
        ""
      ],
      "metadata": {
        "id": "tTNI7rGR7szQ"
      },
      "execution_count": 3,
      "outputs": []
    },
    {
      "cell_type": "code",
      "execution_count": 4,
      "metadata": {
        "id": "Xxvvjms_-JAR"
      },
      "outputs": [],
      "source": [
        "import sys\n",
        "class aperture_array():\n",
        "\n",
        "  def __init__(self, device):\n",
        "    self.device = device\n",
        "    self.init_light_sources()\n",
        "    self.init_aperture_array()\n",
        "    self.init_detector()\n",
        "  \n",
        "  def init_light_sources(self, dimensions=[0.01, 0.015], pixel_count=[20, 30], Z=0.):\n",
        "      x = torch.linspace(-dimensions[0]/2., dimensions[0]/2., pixel_count[0])\n",
        "      y = torch.linspace(-dimensions[1]/2., dimensions[1]/2., pixel_count[1])\n",
        "      X, Y = torch.meshgrid(x, y, indexing='ij')\n",
        "      self.light_source_locations = torch.zeros(X.shape[0], X.shape[1], 3).to(self.device)\n",
        "      self.light_source_locations[:, :, 0] = X\n",
        "      self.light_source_locations[:, :, 1] = Y\n",
        "      self.light_source_locations[:, :, 2] = Z\n",
        "      \n",
        "      \n",
        "  def init_aperture_array(self, dimensions=[0.01, 0.015], pixel_count=[20, 30], Z=0.01):\n",
        "        x = torch.linspace(-dimensions[0]/2., dimensions[0]/2., pixel_count[0])\n",
        "        y = torch.linspace(-dimensions[1]/2., dimensions[1]/2., pixel_count[1])\n",
        "        X, Y = torch.meshgrid(x, y, indexing='ij')\n",
        "        self.aperture_array_locations = torch.zeros(X.shape[0], X.shape[1], 3).to(self.device)\n",
        "        self.aperture_array_locations[:, :, 0] = X\n",
        "        self.aperture_array_locations[:, :, 1] = Y\n",
        "        self.aperture_array_locations[:, :, 2] = Z\n",
        "        self.aperture_array = torch.rand(X.shape[0], X.shape[1], requires_grad=True).to(self.device) # makes it differentiable\n",
        "        \n",
        "  def init_detector(self, dimensions=[0.01, 0.015], pixel_count=[20, 30], Z=0.05):\n",
        "        points = torch.tensor([0., 0, Z]).to(self.device)\n",
        "        self.detector_surface = odak.learn.raytracing.define_plane(points)\n",
        "        # Locations of my pixels on my detector could be defined here.\n",
        "        \n",
        "  def intersection_points_to_image(self, points, amplitudes):\n",
        "        # Intersection points and paint an image on a detector?\n",
        "\n",
        "        self.focal_length= torch.tensor([0.05,0.05])\n",
        "        \n",
        "        # Creating the pinhole intrinsic matrix\n",
        "        camera_Intrinsic= torch.tensor([[self.focal_length[0], 0., 0., 0.],\n",
        "                           [0.,self.focal_length[1], 0., 0.], \n",
        "                           [0., 0., 1., 0.]]).to(self.device)\n",
        "\n",
        "        one=torch.tensor([1]).to(self.device)\n",
        "        coordinates= []\n",
        "        for i in points: \n",
        "          # making the points a 4 x 1 matrix\n",
        "          new_points= torch.hstack((i, one)).view(4, 1)\n",
        "          cam_cood = torch.matmul(camera_Intrinsic, new_points)\n",
        "          # camera coordinates\n",
        "          result = cam_cood[:-1]\n",
        "          coordinates.append(result)\n",
        "\n",
        "      \n",
        "\n",
        "        new_coords= torch.stack(coordinates).to(self.device)\n",
        "        new_coords=  new_coords.squeeze()\n",
        "\n",
        "        # this gives the coordinates on the 2D image plane\n",
        "        \n",
        "        #new_coords=new_coords.view(20,30, 2)\n",
        "        \n",
        "        detector= torch.zeros((600, 3)).to(self.device)\n",
        "        for i in new_coords: \n",
        "         \n",
        "            #giving the indexed parts a value of 1 to make it visible\n",
        "            detector[i[0].long(), i[1].long()] = 1.\n",
        "\n",
        "        \n",
        "        return detector\n",
        "  \n",
        "  def forward(self):\n",
        "        light_source_locations = self.light_source_locations.view(-1, 3)\n",
        "        aperture_array_locations = self.aperture_array_locations.view(-1, 3)\n",
        "\n",
        "        aperture_array = self.aperture_array.view(-1, 3)\n",
        "        #print(aperture_array.shape)\n",
        "        for light_source_location in light_source_locations:\n",
        "            rays_from_light_source = odak.learn.raytracing.create_ray_from_two_points(light_source_location, aperture_array_locations)\n",
        "            intersection_normals_w_detector, _ = odak.learn.raytracing.intersect_w_surface(rays_from_light_source, self.detector_surface)\n",
        "            intersection_points_w_detector = intersection_normals_w_detector[:, 0]\n",
        "            detector_image = self.intersection_points_to_image(\n",
        "                                                                intersection_points_w_detector,\n",
        "                                                                aperture_array\n",
        "                                                              )\n",
        "        return detector_image\n",
        "            \n",
        "  def optimize(self):\n",
        "        self.forward()\n",
        "        return None\n",
        "  \n",
        "def main():\n",
        "    device = torch.device('cuda')\n",
        "    apertures = aperture_array(device=device)\n",
        "    result = apertures.optimize()\n",
        "    return True\n",
        "\n",
        "\n",
        "# if __name__ == '__main__':\n",
        "#     sys.exit(main())\n",
        "\n",
        "\n",
        "\n",
        "test= aperture_array('cuda')\n",
        "final_im= test.forward()\n",
        "\n"
      ]
    },
    {
      "cell_type": "code",
      "source": [
        "fin = final_im.view(20, 30, 3)\n",
        "\n",
        "plt.imshow(fin.cpu().numpy())"
      ],
      "metadata": {
        "colab": {
          "base_uri": "https://localhost:8080/",
          "height": 282
        },
        "id": "3dJMm0A_6Ld3",
        "outputId": "3168ac69-f349-4448-db65-c983a22c13f1"
      },
      "execution_count": 6,
      "outputs": [
        {
          "output_type": "execute_result",
          "data": {
            "text/plain": [
              "<matplotlib.image.AxesImage at 0x7f1734993a90>"
            ]
          },
          "metadata": {},
          "execution_count": 6
        },
        {
          "output_type": "display_data",
          "data": {
            "text/plain": [
              "<Figure size 432x288 with 1 Axes>"
            ],
            "image/png": "[encoded data removed]"
          },
          "metadata": {
            "needs_background": "light"
          }
        }
      ]
    },
    {
      "cell_type": "code",
      "source": [
        ""
      ],
      "metadata": {
        "id": "yBlXgljE-y4l"
      },
      "execution_count": null,
      "outputs": []
    }
  ]
}