{
  "nbformat": 4,
  "nbformat_minor": 0,
  "metadata": {
    "colab": {
      "name": "Aperture_Ray_Trace_5.ipynb",
      "provenance": [],
      "collapsed_sections": []
    },
    "kernelspec": {
      "name": "python3",
      "display_name": "Python 3"
    },
    "language_info": {
      "name": "python"
    },
    "gpuClass": "standard",
    "accelerator": "GPU"
  },
  "cells": [
    {
      "cell_type": "code",
      "source": [
        "!pip install git+https://github.com/kaanaksit/odak.git"
      ],
      "metadata": {
        "colab": {
          "base_uri": "https://localhost:8080/",
          "height": 556
        },
        "id": "7A_68nRQ-Pg0",
        "outputId": "c633af81-f9da-4581-b30a-1f227d4f3bb8"
      },
      "execution_count": 1,
      "outputs": [
        {
          "output_type": "stream",
          "name": "stdout",
          "text": [
            "Looking in indexes: https://pypi.org/simple, https://us-python.pkg.dev/colab-wheels/public/simple/\n",
            "Collecting git+https://github.com/kaanaksit/odak.git\n",
            "  Cloning https://github.com/kaanaksit/odak.git to /tmp/pip-req-build-7czk2cwj\n",
            "  Running command git clone -q https://github.com/kaanaksit/odak.git /tmp/pip-req-build-7czk2cwj\n",
            "Requirement already satisfied: numpy>=1.19.5 in /usr/local/lib/python3.7/dist-packages (from odak==0.2.1) (1.21.6)\n",
            "Requirement already satisfied: torch>=1.12.0 in /usr/local/lib/python3.7/dist-packages (from odak==0.2.1) (1.12.0+cu113)\n",
            "Collecting pillow>=8.1.2\n",
            "  Downloading Pillow-9.2.0-cp37-cp37m-manylinux_2_17_x86_64.manylinux2014_x86_64.whl (3.1 MB)\n",
            "\u001b[K     |████████████████████████████████| 3.1 MB 9.7 MB/s \n",
            "\u001b[?25hCollecting plyfile>=0.7.2\n",
            "  Downloading plyfile-0.7.4-py3-none-any.whl (39 kB)\n",
            "Requirement already satisfied: tqdm>=4.61.1 in /usr/local/lib/python3.7/dist-packages (from odak==0.2.1) (4.64.0)\n",
            "Requirement already satisfied: typing-extensions in /usr/local/lib/python3.7/dist-packages (from torch>=1.12.0->odak==0.2.1) (4.1.1)\n",
            "Building wheels for collected packages: odak\n",
            "  Building wheel for odak (setup.py) ... \u001b[?25l\u001b[?25hdone\n",
            "  Created wheel for odak: filename=odak-0.2.1-py3-none-any.whl size=116322 sha256=ae24f8863703093daa0505837adecbfea65c4748759d435f7dac558a9151b01d\n",
            "  Stored in directory: /tmp/pip-ephem-wheel-cache-jrnsmuvq/wheels/d5/00/3c/4e341f18b6968ce909001cd30304934b45bdbb5e38ae6c41b5\n",
            "Successfully built odak\n",
            "Installing collected packages: plyfile, pillow, odak\n",
            "  Attempting uninstall: pillow\n",
            "    Found existing installation: Pillow 7.1.2\n",
            "    Uninstalling Pillow-7.1.2:\n",
            "      Successfully uninstalled Pillow-7.1.2\n",
            "Successfully installed odak-0.2.1 pillow-9.2.0 plyfile-0.7.4\n"
          ]
        },
        {
          "output_type": "display_data",
          "data": {
            "application/vnd.colab-display-data+json": {
              "pip_warning": {
                "packages": [
                  "PIL"
                ]
              }
            }
          },
          "metadata": {}
        }
      ]
    },
    {
      "cell_type": "code",
      "source": [
        "import odak\n",
        "import torch \n",
        "import numpy as np \n",
        "import sys\n",
        "import odak.learn.raytracing as ODL\n",
        "import matplotlib.pyplot as plt\n",
        "import math\n",
        "import odak.raytracing as raytracer\n",
        "import odak.tools as tools\n",
        "import odak.raytracing as raytracer\n",
        "from odak.raytracing.ray import create_ray\n",
        "import cv2\n",
        "import sys\n",
        "import torch.optim as optim\n",
        "import math"
      ],
      "metadata": {
        "id": "TOKZziua-QIH"
      },
      "execution_count": 2,
      "outputs": []
    },
    {
      "cell_type": "code",
      "source": [
        ""
      ],
      "metadata": {
        "id": "tTNI7rGR7szQ"
      },
      "execution_count": 2,
      "outputs": []
    },
    {
      "cell_type": "code",
      "execution_count": 28,
      "metadata": {
        "id": "Xxvvjms_-JAR"
      },
      "outputs": [],
      "source": [
        "import sys\n",
        "class aperture_array():\n",
        "\n",
        "  def __init__(self, device, image):\n",
        "    self.device = device\n",
        "    self.image =image.to(device).view(-1,1)\n",
        "    self.init_light_sources()\n",
        "    self.init_aperture_array()\n",
        "    self.init_detector()\n",
        "  \n",
        "  def init_light_sources(self, dimensions=[0.01, 0.015], pixel_count=[20, 30], Z=0.):\n",
        "      x = torch.linspace(-dimensions[0]/2., dimensions[0]/2., pixel_count[0])\n",
        "      y = torch.linspace(-dimensions[1]/2., dimensions[1]/2., pixel_count[1])\n",
        "      X, Y = torch.meshgrid(x, y, indexing='ij')\n",
        "      self.light_source_locations = torch.zeros(X.shape[0], X.shape[1], 3).to(self.device)\n",
        "      self.light_source_locations[:, :, 0] = X\n",
        "      self.light_source_locations[:, :, 1] = Y\n",
        "      self.light_source_locations[:, :, 2] = Z\n",
        "      \n",
        "      \n",
        "  def init_aperture_array(self, dimensions=[0.01, 0.015], pixel_count=[20, 30], Z=0.01):\n",
        "        x = torch.linspace(-dimensions[0]/2., dimensions[0]/2., pixel_count[0])\n",
        "        y = torch.linspace(-dimensions[1]/2., dimensions[1]/2., pixel_count[1])\n",
        "        X, Y = torch.meshgrid(x, y, indexing='ij')\n",
        "        self.aperture_array_locations = torch.zeros(X.shape[0], X.shape[1], 3).to(self.device)\n",
        "        self.aperture_array_locations[:, :, 0] = X\n",
        "        self.aperture_array_locations[:, :, 1] = Y\n",
        "        self.aperture_array_locations[:, :, 2] = Z\n",
        "        self.aperture_array = torch.rand(X.shape[0], X.shape[1], requires_grad=True, device=self.device)  #.to(self.device) # makes it differentiable\n",
        "        plt.imshow(self.aperture_array.detach().cpu().numpy())\n",
        "        \n",
        "        \n",
        "  def init_detector(self, dimensions=[0.01, 0.015], size=[20, 30], Z=0.01):\n",
        "        \n",
        "        point = torch.tensor([0., 0., Z]).to(self.device)\n",
        "            #Look into this defination again\n",
        "        self.detector_surface = odak.learn.raytracing.define_plane(point)\n",
        "        \n",
        "        \n",
        "        # Locations of my pixels on my detector could be defined here.\n",
        "        \n",
        "  def intersection_points_to_image(self, points, amplitudes, threshold):\n",
        "   \n",
        "        Points_data= self.image\n",
        "        detector = torch.zeros_like(Points_data)\n",
        "        array_locations = self.aperture_array_locations.view(-1, 3)\n",
        "\n",
        "        for idx, point in enumerate(points):\n",
        "          \n",
        "      \n",
        "          dist_btwn_array_npoint = torch.sqrt(torch.sum((array_locations-point)**2, dim=1))\n",
        "          min_dist_idx  = torch.argmin(dist_btwn_array_npoint)\n",
        "          min_dist = torch.min(dist_btwn_array_npoint)\n",
        "\n",
        "          if min_dist < (math.sqrt(2) * threshold):\n",
        "            detector[min_dist_idx] = Points_data[idx]\n",
        "            #print(min_dist)\n",
        "        detector= detector.view(20,30)\n",
        "        return detector\n",
        "  \n",
        "  def forward(self):\n",
        "        light_source_locations = self.light_source_locations.view(-1, 3)\n",
        "\n",
        "        aperture_array_locations = self.aperture_array_locations.view(-1, 3)\n",
        "      \n",
        "        aperture_array = self.aperture_array.view(-1, 1)\n",
        "        detector_image  = torch.zeros(20, 30).to(self.device)\n",
        "        \n",
        "        pixel_pitch = torch.sqrt(torch.sum((aperture_array_locations[1] - aperture_array_locations[0])**2, dim =0))\n",
        "        \n",
        "        for light_source_location in light_source_locations:\n",
        "            rays_from_light_source = odak.learn.raytracing.create_ray_from_two_points(light_source_location, aperture_array_locations)\n",
        "\n",
        "            # print('rays from light: ', rays_from_light_source.size()) #600x2x3\n",
        "            intersection_normals_w_detector, _ = odak.learn.raytracing.intersect_w_surface(rays_from_light_source, self.detector_surface)\n",
        "            intersection_points_w_detector = intersection_normals_w_detector[:, 0]\n",
        "            \n",
        "            # intersection_points.append(intersection_points_w_detector)\n",
        "          # print(intersection_points_w_detector.size())\n",
        "            detector_image += self.intersection_points_to_image(\n",
        "                                                                intersection_points_w_detector,\n",
        "                                                                aperture_array, \n",
        "                                                                pixel_pitch\n",
        "                                                              )\n",
        "            \n",
        "       # print(intersection_normals_w_detector)\n",
        "        # detector_image= detector_image.view(20,30)   \n",
        "        return detector_image\n",
        "\n",
        "  def compute_loss(self, output , target):\n",
        "\n",
        "    loss = torch.nn.MSELoss()(output, target)\n",
        "\n",
        "    return loss\n",
        "            \n",
        "  def optimize(self):\n",
        "\n",
        "        output= self.forward().view(-1,1)\n",
        "        target= self.image\n",
        "\n",
        "        array = self.aperture_array\n",
        "       \n",
        "        optimiser= torch.optim.SGD([array],0.01)\n",
        "        epochs= 100\n",
        "\n",
        "        running_loss= 1\n",
        "        for epoch in range(0, epochs+1):\n",
        "          print('\\rEpoch {}/{} - loss:{}'.format(epoch, epochs, running_loss/len(array)), end=\"\")\n",
        "          optimiser.zero_grad()\n",
        "  \n",
        "          \n",
        "\n",
        "          loss = self.compute_loss(output.float(),target.float() )\n",
        "          running_loss+= loss\n",
        "          loss.backward(retain_graph=True)\n",
        "\n",
        "          optimiser.step()\n",
        "\n",
        "        return optimiser\n",
        "  \n",
        "def main():\n",
        "    device = torch.device('cuda')\n",
        "    apertures = aperture_array(device=device)\n",
        "    result = apertures.optimize()\n",
        "    return True\n",
        "\n",
        "\n",
        "# if __name__ == '__main__':\n",
        "#     sys.exit(main())\n",
        "\n",
        "\n",
        "\n",
        "\n"
      ]
    },
    {
      "cell_type": "code",
      "source": [
        "img = cv2.imread('/content/drive/MyDrive/Colab Notebooks/IP Labs/Images/Lenna.png')\n",
        "img_gray = cv2.cvtColor(img, cv2.COLOR_BGR2GRAY)\n",
        "img_gray= cv2.resize(img_gray, (20, 30))\n",
        "img_G= torch.tensor(img_gray)\n",
        "# plt.imshow(img_gray, cmap='gray')\n",
        "\n",
        "device = torch.device('cuda' if torch.cuda.is_available() else 'cpu')\n",
        "test= aperture_array(device, img_G)\n",
        "final_im= test.forward()\n"
      ],
      "metadata": {
        "id": "T_MFOL7j9sL5",
        "colab": {
          "base_uri": "https://localhost:8080/",
          "height": 265
        },
        "outputId": "3fd3a718-2441-4c80-e786-503f95d8105b"
      },
      "execution_count": 29,
      "outputs": [
        {
          "output_type": "display_data",
          "data": {
            "text/plain": [
              "<Figure size 432x288 with 1 Axes>"
            ],
            "image/png": "[encoded data removed]"
          },
          "metadata": {
            "needs_background": "light"
          }
        }
      ]
    },
    {
      "cell_type": "code",
      "source": [
        "plt.imshow(final_im.cpu().detach().numpy(), cmap='gray')\n",
        "plt.colorbar()"
      ],
      "metadata": {
        "id": "3dJMm0A_6Ld3",
        "colab": {
          "base_uri": "https://localhost:8080/",
          "height": 270
        },
        "outputId": "fc624024-f0ec-4fb1-b7bc-ae35cf51290b"
      },
      "execution_count": 30,
      "outputs": [
        {
          "output_type": "execute_result",
          "data": {
            "text/plain": [
              "<matplotlib.colorbar.Colorbar at 0x7f2b7d6ba810>"
            ]
          },
          "metadata": {},
          "execution_count": 30
        },
        {
          "output_type": "display_data",
          "data": {
            "text/plain": [
              "<Figure size 432x288 with 2 Axes>"
            ],
            "image/png": "[encoded data removed]"
          },
          "metadata": {
            "needs_background": "light"
          }
        }
      ]
    },
    {
      "cell_type": "code",
      "source": [
        "fin"
      ],
      "metadata": {
        "id": "gTS2z6bbb2jA",
        "colab": {
          "base_uri": "https://localhost:8080/",
          "height": 169
        },
        "outputId": "b287b6f0-47dc-4a5f-d627-6d74f523935c"
      },
      "execution_count": 6,
      "outputs": [
        {
          "output_type": "error",
          "ename": "NameError",
          "evalue": "ignored",
          "traceback": [
            "\u001b[0;31m---------------------------------------------------------------------------\u001b[0m",
            "\u001b[0;31mNameError\u001b[0m                                 Traceback (most recent call last)",
            "\u001b[0;32m<ipython-input-6-56098ff75bef>\u001b[0m in \u001b[0;36m<module>\u001b[0;34m()\u001b[0m\n\u001b[0;32m----> 1\u001b[0;31m \u001b[0mfin\u001b[0m\u001b[0;34m\u001b[0m\u001b[0;34m\u001b[0m\u001b[0m\n\u001b[0m",
            "\u001b[0;31mNameError\u001b[0m: name 'fin' is not defined"
          ]
        }
      ]
    },
    {
      "cell_type": "code",
      "source": [
        "optim = test.optimize()"
      ],
      "metadata": {
        "id": "3OiZGjIoIo0l"
      },
      "execution_count": null,
      "outputs": []
    },
    {
      "cell_type": "code",
      "source": [
        ""
      ],
      "metadata": {
        "id": "tV57TnMU272H"
      },
      "execution_count": null,
      "outputs": []
    }
  ]
}