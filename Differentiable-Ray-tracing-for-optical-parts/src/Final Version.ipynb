{
  "cells": [
    {
      "cell_type": "code",
      "execution_count": 1,
      "metadata": {
        "colab": {
          "base_uri": "https://localhost:8080/"
        },
        "id": "7A_68nRQ-Pg0",
        "outputId": "eae4b186-e2e7-4fd4-e8f9-b19083f68244"
      },
      "outputs": [
        {
          "output_type": "stream",
          "name": "stdout",
          "text": [
            "Looking in indexes: https://pypi.org/simple, https://us-python.pkg.dev/colab-wheels/public/simple/\n",
            "Collecting git+https://github.com/kaanaksit/odak.git\n",
            "  Cloning https://github.com/kaanaksit/odak.git to /tmp/pip-req-build-xmoxt__f\n",
            "  Running command git clone -q https://github.com/kaanaksit/odak.git /tmp/pip-req-build-xmoxt__f\n",
            "Requirement already satisfied: numpy>=1.19.5 in /usr/local/lib/python3.7/dist-packages (from odak==0.2.1) (1.21.6)\n",
            "Requirement already satisfied: torch>=1.12.0 in /usr/local/lib/python3.7/dist-packages (from odak==0.2.1) (1.12.1+cu113)\n",
            "Requirement already satisfied: pillow>=8.1.2 in /usr/local/lib/python3.7/dist-packages (from odak==0.2.1) (9.2.0)\n",
            "Requirement already satisfied: plyfile>=0.7.2 in /usr/local/lib/python3.7/dist-packages (from odak==0.2.1) (0.7.4)\n",
            "Requirement already satisfied: tqdm>=4.61.1 in /usr/local/lib/python3.7/dist-packages (from odak==0.2.1) (4.64.1)\n",
            "Requirement already satisfied: typing-extensions in /usr/local/lib/python3.7/dist-packages (from torch>=1.12.0->odak==0.2.1) (4.1.1)\n"
          ]
        }
      ],
      "source": [
        "!pip install git+https://github.com/kaanaksit/odak.git"
      ]
    },
    {
      "cell_type": "code",
      "execution_count": 2,
      "metadata": {
        "id": "TOKZziua-QIH"
      },
      "outputs": [],
      "source": [
        "import odak\n",
        "import torch \n",
        "import numpy as np \n",
        "import odak.learn.raytracing as ODL\n",
        "import matplotlib.pyplot as plt\n",
        "import math\n",
        "import odak.raytracing as raytracer\n",
        "import odak.tools as tools\n",
        "import odak.raytracing as raytracer\n",
        "import torch.nn as nn\n",
        "from odak.raytracing.ray import create_ray\n",
        "import cv2\n",
        "from PIL import Image\n",
        "import sys\n",
        "import torch.optim as optim\n",
        "from torchvision import transforms\n",
        "from torch.nn import Module\n",
        "import math"
      ]
    },
    {
      "cell_type": "code",
      "execution_count": 19,
      "metadata": {
        "id": "Xxvvjms_-JAR"
      },
      "outputs": [],
      "source": [
        "\n",
        "class aperture_array():\n",
        "\n",
        "  def __init__(self, device):\n",
        "    self.device = device\n",
        "    self.init_light_sources()\n",
        "    self.init_aperture_array()\n",
        "    self.init_detector()\n",
        "   \n",
        "    \n",
        "\n",
        "  def transform_image(self, image):\n",
        "    \"\"\"\n",
        "    Resizes image, Transforms image to tensor and normalises image \n",
        "\n",
        "    Parmeters\n",
        "    ----------\n",
        "    Image     : Grayscale or Coloured PIL image\n",
        "\n",
        "    Returns\n",
        "    ---------\n",
        "    normalised_image    : Tesnor of normalised and resized image\n",
        "\n",
        "    \"\"\"\n",
        "\n",
        "    #If grayscale then:\n",
        "    if(len(np.array(image).shape)<3):\n",
        "\n",
        "      transform =transforms.Compose([\n",
        "        transforms.Resize((28,28)),\n",
        "        transforms.ToTensor(),\n",
        "        transforms.Normalize((0.5), (0.5))\n",
        "        \n",
        "      ])\n",
        "      im=transform(image)\n",
        "\n",
        "      normalised_image = im.view(-1,1).to(self.device)\n",
        "\n",
        "   \n",
        "    #If it is a colour image then:\n",
        "    elif int(np.array(image).shape[2]) == 3 or int(np.array(image).shape[2]) == 4: \n",
        "      \n",
        "      transform = transforms.Compose([\n",
        "          transforms.ToTensor(),\n",
        "          transforms.Resize((28,28)),\n",
        "\n",
        "      ])\n",
        "\n",
        "      pixel = np.asarray(image)\n",
        "      # convert from integers to floats\n",
        "      pixel = pixel.astype('float32')\n",
        "      # normalize to the range 0-1\n",
        "      pixel /= 255.0\n",
        "\n",
        "      im = torch.moveaxis(transform(pixel[:,:,:3]), 0,2)\n",
        "      normalised_image = im.view(-1,3).to(self.device)    \n",
        "    return normalised_image\n",
        "\n",
        "  # initialising light sources  \n",
        "  def init_light_sources(self, dimensions=[0.01, 0.015], pixel_count=[28,28], Z=0.):\n",
        "\n",
        "      \"\"\"\n",
        "      Defines the light sources locations   \n",
        "\n",
        "\n",
        "      \"\"\"\n",
        "      x = torch.linspace(-dimensions[0]/2., dimensions[0]/2., pixel_count[0])\n",
        "      y = torch.linspace(-dimensions[1]/2., dimensions[1]/2., pixel_count[1])\n",
        "      X, Y = torch.meshgrid(x, y, indexing='ij')\n",
        "      self.light_source_locations = torch.zeros(X.shape[0], X.shape[1], 3).to(self.device)\n",
        "      self.light_source_locations[:, :, 0] = X\n",
        "      self.light_source_locations[:, :, 1] = Y\n",
        "      self.light_source_locations[:, :, 2] = Z\n",
        "      \n",
        "    # Defining Array\n",
        "  def init_aperture_array(self, dimensions=[0.01, 0.015], pixel_count=[28,28], Z=0.01):\n",
        "\n",
        "        \"\"\"\n",
        "        Defines the aperture array and its locations\n",
        "\n",
        "        Returns\n",
        "        -------\n",
        "\n",
        "        self.aperture_array   : A 28 x 28 Tensor of random values\n",
        "                                \n",
        "        \"\"\"\n",
        "\n",
        "        x = torch.linspace(-dimensions[0]/2., dimensions[0]/2., pixel_count[0])\n",
        "        y = torch.linspace(-dimensions[1]/2., dimensions[1]/2., pixel_count[1])\n",
        "        X, Y = torch.meshgrid(x, y, indexing='ij')\n",
        "        self.aperture_array_locations = torch.zeros(X.shape[0], X.shape[1], 3).to(self.device)\n",
        "        self.aperture_array_locations[:, :, 0] = X\n",
        "        self.aperture_array_locations[:, :, 1] = Y\n",
        "        self.aperture_array_locations[:, :, 2] = Z\n",
        "        self.aperture_array = torch.rand(X.shape[0], X.shape[1],requires_grad=True, device=self.device) \n",
        "\n",
        "        return self.aperture_array\n",
        "        \n",
        "    # Defining plane   \n",
        "  def init_detector(self, dimensions=[0.01, 0.015], size=[28,28], Z=0.01):\n",
        "        \"\"\"\n",
        "        Defines planar surface\n",
        "\n",
        "        \"\"\"\n",
        "\n",
        "        point = torch.tensor([0., 0., Z]).to(self.device)\n",
        "        self.detector_surface = odak.learn.raytracing.define_plane(point)\n",
        "        \n",
        "  # Forming image on detector surface\n",
        "  def intersection_points_to_image(self, points, amplitudes, threshold, norm_image):\n",
        "        \"\"\"\n",
        "        Displays image generated from the intersection points from ray tracing \n",
        "        \n",
        "        Paremeters\n",
        "        ----------\n",
        "        \n",
        "        points  : Tensor containing intersection point of the ray on the planar surface\n",
        "\n",
        "        amplitudes:  Tensor of the aperture array \n",
        "\n",
        "        threshold:  1x1 Tensor of the distance between pixels on the detector surface\n",
        "\n",
        "        norm_image   : Tensor of the normalised and resized image\n",
        "\n",
        "        Returns\n",
        "        ---------\n",
        "\n",
        "        detector_image  : Tensor containing the image formed from intersection points on the image plane\n",
        "        \"\"\"\n",
        "        Points_data= norm_image * amplitudes\n",
        "        detector = torch.zeros_like(norm_image).to(self.device)\n",
        "        array_locations = self.aperture_array_locations.view(-1, 3)\n",
        "\n",
        "  \n",
        "        for idx, point in enumerate(points):\n",
        "            \n",
        "            dist_btwn_array_npoint = torch.sqrt(torch.sum((array_locations-point)**2, dim=1))\n",
        "            min_dist_idx  = torch.argmin(dist_btwn_array_npoint)\n",
        "            min_dist = torch.min(dist_btwn_array_npoint)\n",
        "\n",
        "            if min_dist < (math.sqrt(2) * threshold):\n",
        "              detector[min_dist_idx] = Points_data[idx]\n",
        "\n",
        "        detector +=detector\n",
        "\n",
        "        # resizing depending on if image is colour or grayscale\n",
        "       \n",
        "        if int(norm_image.size()[1]) == 3: \n",
        "          detector_image  = detector.view(28,28,3).to(self.device)\n",
        "        else:\n",
        "          detector_image  = detector.view(28,28).to(self.device)  \n",
        "              \n",
        "        return detector_image\n",
        "\n",
        "  # Forward to do ray tracing return intersection points and get image\n",
        "  def forward(self, array, image):\n",
        "\n",
        "        \"\"\"\n",
        "        Calculates the intersection points of the ray with the planar surface\n",
        "        and returns the resultant image\n",
        "\n",
        "        Parameters\n",
        "        ----------\n",
        "\n",
        "        array:   Tensor containing the aperture array \n",
        "\n",
        "        image:  PIL image \n",
        "\n",
        "        Returns\n",
        "        --------\n",
        "        detector_image:   Tensor of resultant image from ray tracing \n",
        "        \n",
        "        intersections:    List containing the intersection points of the ray with the plane\n",
        "\n",
        "        \"\"\"\n",
        "\n",
        "        light_source_locations = self.light_source_locations.view(-1, 3)\n",
        "\n",
        "        aperture_array_locations = self.aperture_array_locations.view(-1, 3)\n",
        "\n",
        "        self.pixel_pitch = torch.sqrt(torch.sum((aperture_array_locations[1] - aperture_array_locations[0])**2, dim =0)).to(self.device)\n",
        "\n",
        "        aperture_array = array.view(-1,1).to(self.device)\n",
        "        \n",
        "        self.image =image\n",
        "        self.norm_img = self.transform_image(self.image) \n",
        "        \n",
        "        \n",
        "        intersections = []\n",
        "        \n",
        "        for light_source_location in light_source_locations:\n",
        "            rays_from_light_source = odak.learn.raytracing.create_ray_from_two_points(light_source_location, aperture_array_locations)\n",
        "\n",
        "             # calculating intersection points\n",
        "            intersection_normals_w_detector, _ = odak.learn.raytracing.intersect_w_surface(rays_from_light_source, self.detector_surface)\n",
        "            intersection_points_w_detector = intersection_normals_w_detector[:, 0]\n",
        "            intersections.append(intersection_points_w_detector)\n",
        "            \n",
        "            \n",
        "        # Getting the image seen on the image plane\n",
        "        image=list(map(self.intersection_points_to_image,intersections,[aperture_array],[self.pixel_pitch],[self.norm_img] ))\n",
        "        detector_image =  image[0]\n",
        "        \n",
        "        return detector_image, intersections\n",
        "\n",
        "  def compute_loss(self, output , target):\n",
        "    \"\"\"\n",
        "    Calculates the mean square error between two values\n",
        "    \n",
        "    Parameters\n",
        "    ----------\n",
        "\n",
        "    output:   Tensor of image from ray tracing \n",
        "\n",
        "    target:   Tensor of the normalised input image \n",
        "\n",
        "    Returns\n",
        "    ---------\n",
        "\n",
        "    loss:  Tensor of the mean squared loss value \n",
        "    \n",
        "    \"\"\"\n",
        "\n",
        "    loss = torch.nn.MSELoss()(output, target)\n",
        "\n",
        "    return loss\n",
        "            \n",
        "  def optimize(self):\n",
        "\n",
        "        \"\"\"\n",
        "        Optimises the aperture array with stochastic gradient descent \n",
        "\n",
        "        Parameters\n",
        "        ----------\n",
        "\n",
        "        intersection_points:  List containing the intersection points of the ray with the plane\n",
        "\n",
        "        Returns\n",
        "        ---------\n",
        "        model:    Tensor of the optimised array \n",
        "        \n",
        "        history:  List containing loss value in every iteration        \n",
        "\n",
        "        \"\"\"\n",
        "        \n",
        "       \n",
        "        if int( self.norm_img.size()[1]) == 3: \n",
        "          target  = self.norm_img.view(28,28,3)\n",
        "        else:\n",
        "          target  = self.norm_img.view(28,28) \n",
        "\n",
        "        array = self.aperture_array.view(-1,1)\n",
        "        array_loc = self.aperture_array_locations\n",
        "\n",
        "        model = [nn.Parameter(array)]\n",
        "\n",
        "        #points= intersection_points\n",
        "        threshold= self.pixel_pitch\n",
        "\n",
        "       \n",
        "        optimiser= torch.optim.SGD(model,lr = 0.5,momentum=0.9)\n",
        "        epochs= 300\n",
        "\n",
        "        history =[]\n",
        "\n",
        "        for epoch in range(0, epochs+1):\n",
        "          optimiser.zero_grad()\n",
        "          \n",
        "          output, _=self.forward(model[0],self.image)\n",
        "          loss = self.compute_loss(output,target)\n",
        "            \n",
        "          loss.backward()\n",
        "          optimiser.step()\n",
        "\n",
        "          print('Epoch: ', epoch,' ,Loss: ', loss)\n",
        "          history.append(loss)\n",
        "          \n",
        "        return model, history\n",
        "  \n",
        "# def main():\n",
        "#     device = torch.device('cuda')\n",
        "#     apertures = aperture_array(device=device)\n",
        "#     result = apertures.optimize()\n",
        "#     return True\n",
        "\n",
        "\n",
        "\n",
        "\n"
      ]
    },
    {
      "cell_type": "markdown",
      "metadata": {
        "id": "H3iHfbIgGsco"
      },
      "source": [
        "## Calling the module and setting the device to 'cuda'"
      ]
    },
    {
      "cell_type": "code",
      "execution_count": 20,
      "metadata": {
        "id": "T_MFOL7j9sL5"
      },
      "outputs": [],
      "source": [
        "device = torch.device('cuda' if torch.cuda.is_available() else 'cpu')\n",
        "Aperture_RT= aperture_array(device)"
      ]
    },
    {
      "cell_type": "markdown",
      "metadata": {
        "id": "c0OvSjU-Gz2O"
      },
      "source": [
        "# Retriving test Image"
      ]
    },
    {
      "cell_type": "code",
      "source": [
        "from keras.datasets import fashion_mnist\n",
        "# load dataset\n",
        "(trainX, trainy), (testX, testy) = fashion_mnist.load_data()"
      ],
      "metadata": {
        "id": "d7jSM0106_Mc"
      },
      "execution_count": 21,
      "outputs": []
    },
    {
      "cell_type": "code",
      "source": [
        "plt.imshow(trainX[7], cmap='gray')"
      ],
      "metadata": {
        "colab": {
          "base_uri": "https://localhost:8080/",
          "height": 283
        },
        "id": "29DJktgc8hgz",
        "outputId": "d2f04f46-80a7-4b0c-ab74-9ec376fdb48f"
      },
      "execution_count": null,
      "outputs": [
        {
          "output_type": "execute_result",
          "data": {
            "text/plain": [
              "<matplotlib.image.AxesImage at 0x7f721068a7d0>"
            ]
          },
          "metadata": {},
          "execution_count": 7
        },
        {
          "output_type": "display_data",
          "data": {
            "text/plain": [
              "<Figure size 432x288 with 1 Axes>"
            ],
            "image/png": "[encoded data removed]"
          },
          "metadata": {
            "needs_background": "light"
          }
        }
      ]
    },
    {
      "cell_type": "code",
      "execution_count": 22,
      "metadata": {
        "id": "5rLERDS6w5M-"
      },
      "outputs": [],
      "source": [
        "#Image preprocessing \n",
        "\n",
        "test_im_3 = Image.open('/content/drive/MyDrive/Colab Notebooks/MASTERS PROJECT /Tests/Test_3/test_image.png').convert('L')\n",
        "\n",
        "# pixel = np.asarray(test_im_10)\n",
        "\n",
        "# # convert from integers to floats\n",
        "# pixel = pixel.astype('float32')\n",
        "# # normalize to the range 0-1\n",
        "# pixel /= 255.0\n",
        "# # test_im_5 = pixel[:,:,:3]\n",
        "# # test_im_5 = Image.fromarray(np.uint8(pixel))\n",
        "\n",
        "\n",
        "transform = transforms.Compose([\n",
        "    transforms.ToTensor(),\n",
        "    transforms.Resize((28,28)),\n",
        "    transforms.Normalize((0.5),(0.5))\n",
        "\n",
        "])\n",
        "\n",
        "resize_image =transform(test_im_3).to(device)\n",
        "\n"
      ]
    },
    {
      "cell_type": "code",
      "execution_count": 23,
      "metadata": {
        "id": "qpyfYTeYMWD2"
      },
      "outputs": [],
      "source": [
        "array = Aperture_RT.init_aperture_array()# initial value of the aperture array yet to be optimised\n",
        "ray_traced_image_3, intersection_points= Aperture_RT.forward(array,test_im_3)"
      ]
    },
    {
      "cell_type": "code",
      "execution_count": 24,
      "metadata": {
        "colab": {
          "base_uri": "https://localhost:8080/",
          "height": 283
        },
        "id": "6_IvKOufEhkh",
        "outputId": "9b170dec-6638-48b0-8a4a-191c669d5e45"
      },
      "outputs": [
        {
          "output_type": "execute_result",
          "data": {
            "text/plain": [
              "Text(0.5, 1.0, 'Image ray traced through array')"
            ]
          },
          "metadata": {},
          "execution_count": 24
        },
        {
          "output_type": "display_data",
          "data": {
            "text/plain": [
              "<Figure size 1080x1080 with 3 Axes>"
            ],
            "image/png": "[encoded data removed]"
          },
          "metadata": {
            "needs_background": "light"
          }
        }
      ],
      "source": [
        "fig , axes=plt.subplots(1,3, figsize =(15, 15))\n",
        "\n",
        "axes[0].imshow(test_im_3, cmap='gray')\n",
        "axes[0].set_title('original sized image')\n",
        "\n",
        "axes[1].imshow(resize_image.cpu().squeeze().numpy(), cmap='gray')\n",
        "axes[1].set_title('Target Image')\n",
        "\n",
        "axes[2].imshow(ray_traced_image_3.detach().cpu().numpy(), cmap='gray')\n",
        "axes[2].set_title('Image ray traced through array')"
      ]
    },
    {
      "cell_type": "code",
      "source": [
        "plt.imshow(array.detach().cpu().numpy(), cmap='gray')\n",
        "plt.axis('off')\n",
        "plt.title('Randomised aperture array')\n"
      ],
      "metadata": {
        "colab": {
          "base_uri": "https://localhost:8080/",
          "height": 282
        },
        "id": "pIWuS-0Q415W",
        "outputId": "d1277178-3569-48d7-e253-ff8694758a40"
      },
      "execution_count": 25,
      "outputs": [
        {
          "output_type": "execute_result",
          "data": {
            "text/plain": [
              "Text(0.5, 1.0, 'Randomised aperture array')"
            ]
          },
          "metadata": {},
          "execution_count": 25
        },
        {
          "output_type": "display_data",
          "data": {
            "text/plain": [
              "<Figure size 432x288 with 1 Axes>"
            ],
            "image/png": "[encoded data removed]"
          },
          "metadata": {
            "needs_background": "light"
          }
        }
      ]
    },
    {
      "cell_type": "markdown",
      "source": [
        "## Initial Loss\n"
      ],
      "metadata": {
        "id": "DbYAMhmAP9g_"
      }
    },
    {
      "cell_type": "code",
      "execution_count": 16,
      "metadata": {
        "colab": {
          "base_uri": "https://localhost:8080/"
        },
        "id": "Muoq5-AWI3Gl",
        "outputId": "29e219dc-0198-43de-b6cd-471cae5300aa"
      },
      "outputs": [
        {
          "output_type": "stream",
          "name": "stdout",
          "text": [
            "The initial loss is:  tensor(0.3108, device='cuda:0', grad_fn=<MseLossBackward0>)\n"
          ]
        }
      ],
      "source": [
        "Loss = Aperture_RT.compute_loss(ray_traced_image_3, resize_image.squeeze())\n",
        "print('The initial loss is: ',Loss)"
      ]
    },
    {
      "cell_type": "markdown",
      "metadata": {
        "id": "YaAPYc12C7H7"
      },
      "source": [
        "# Optimising the array "
      ]
    },
    {
      "cell_type": "code",
      "execution_count": 26,
      "metadata": {
        "id": "3OiZGjIoIo0l",
        "colab": {
          "base_uri": "https://localhost:8080/"
        },
        "outputId": "97a7380e-35ad-4b5c-8f34-8321d774cb46"
      },
      "outputs": [
        {
          "output_type": "stream",
          "name": "stdout",
          "text": [
            "Epoch:  0  ,Loss:  tensor(0.2840, device='cuda:0', grad_fn=<MseLossBackward0>)\n",
            "Epoch:  1  ,Loss:  tensor(0.2813, device='cuda:0', grad_fn=<MseLossBackward0>)\n",
            "Epoch:  2  ,Loss:  tensor(0.2762, device='cuda:0', grad_fn=<MseLossBackward0>)\n",
            "Epoch:  3  ,Loss:  tensor(0.2690, device='cuda:0', grad_fn=<MseLossBackward0>)\n",
            "Epoch:  4  ,Loss:  tensor(0.2601, device='cuda:0', grad_fn=<MseLossBackward0>)\n",
            "Epoch:  5  ,Loss:  tensor(0.2498, device='cuda:0', grad_fn=<MseLossBackward0>)\n",
            "Epoch:  6  ,Loss:  tensor(0.2384, device='cuda:0', grad_fn=<MseLossBackward0>)\n",
            "Epoch:  7  ,Loss:  tensor(0.2261, device='cuda:0', grad_fn=<MseLossBackward0>)\n",
            "Epoch:  8  ,Loss:  tensor(0.2133, device='cuda:0', grad_fn=<MseLossBackward0>)\n",
            "Epoch:  9  ,Loss:  tensor(0.2001, device='cuda:0', grad_fn=<MseLossBackward0>)\n",
            "Epoch:  10  ,Loss:  tensor(0.1868, device='cuda:0', grad_fn=<MseLossBackward0>)\n",
            "Epoch:  11  ,Loss:  tensor(0.1735, device='cuda:0', grad_fn=<MseLossBackward0>)\n",
            "Epoch:  12  ,Loss:  tensor(0.1604, device='cuda:0', grad_fn=<MseLossBackward0>)\n",
            "Epoch:  13  ,Loss:  tensor(0.1476, device='cuda:0', grad_fn=<MseLossBackward0>)\n",
            "Epoch:  14  ,Loss:  tensor(0.1353, device='cuda:0', grad_fn=<MseLossBackward0>)\n",
            "Epoch:  15  ,Loss:  tensor(0.1234, device='cuda:0', grad_fn=<MseLossBackward0>)\n",
            "Epoch:  16  ,Loss:  tensor(0.1122, device='cuda:0', grad_fn=<MseLossBackward0>)\n",
            "Epoch:  17  ,Loss:  tensor(0.1016, device='cuda:0', grad_fn=<MseLossBackward0>)\n",
            "Epoch:  18  ,Loss:  tensor(0.0916, device='cuda:0', grad_fn=<MseLossBackward0>)\n",
            "Epoch:  19  ,Loss:  tensor(0.0823, device='cuda:0', grad_fn=<MseLossBackward0>)\n",
            "Epoch:  20  ,Loss:  tensor(0.0737, device='cuda:0', grad_fn=<MseLossBackward0>)\n",
            "Epoch:  21  ,Loss:  tensor(0.0658, device='cuda:0', grad_fn=<MseLossBackward0>)\n",
            "Epoch:  22  ,Loss:  tensor(0.0585, device='cuda:0', grad_fn=<MseLossBackward0>)\n",
            "Epoch:  23  ,Loss:  tensor(0.0519, device='cuda:0', grad_fn=<MseLossBackward0>)\n",
            "Epoch:  24  ,Loss:  tensor(0.0459, device='cuda:0', grad_fn=<MseLossBackward0>)\n",
            "Epoch:  25  ,Loss:  tensor(0.0405, device='cuda:0', grad_fn=<MseLossBackward0>)\n",
            "Epoch:  26  ,Loss:  tensor(0.0357, device='cuda:0', grad_fn=<MseLossBackward0>)\n",
            "Epoch:  27  ,Loss:  tensor(0.0313, device='cuda:0', grad_fn=<MseLossBackward0>)\n",
            "Epoch:  28  ,Loss:  tensor(0.0275, device='cuda:0', grad_fn=<MseLossBackward0>)\n",
            "Epoch:  29  ,Loss:  tensor(0.0241, device='cuda:0', grad_fn=<MseLossBackward0>)\n",
            "Epoch:  30  ,Loss:  tensor(0.0211, device='cuda:0', grad_fn=<MseLossBackward0>)\n",
            "Epoch:  31  ,Loss:  tensor(0.0184, device='cuda:0', grad_fn=<MseLossBackward0>)\n",
            "Epoch:  32  ,Loss:  tensor(0.0161, device='cuda:0', grad_fn=<MseLossBackward0>)\n",
            "Epoch:  33  ,Loss:  tensor(0.0142, device='cuda:0', grad_fn=<MseLossBackward0>)\n",
            "Epoch:  34  ,Loss:  tensor(0.0124, device='cuda:0', grad_fn=<MseLossBackward0>)\n",
            "Epoch:  35  ,Loss:  tensor(0.0110, device='cuda:0', grad_fn=<MseLossBackward0>)\n",
            "Epoch:  36  ,Loss:  tensor(0.0097, device='cuda:0', grad_fn=<MseLossBackward0>)\n",
            "Epoch:  37  ,Loss:  tensor(0.0086, device='cuda:0', grad_fn=<MseLossBackward0>)\n",
            "Epoch:  38  ,Loss:  tensor(0.0077, device='cuda:0', grad_fn=<MseLossBackward0>)\n",
            "Epoch:  39  ,Loss:  tensor(0.0070, device='cuda:0', grad_fn=<MseLossBackward0>)\n",
            "Epoch:  40  ,Loss:  tensor(0.0063, device='cuda:0', grad_fn=<MseLossBackward0>)\n",
            "Epoch:  41  ,Loss:  tensor(0.0058, device='cuda:0', grad_fn=<MseLossBackward0>)\n",
            "Epoch:  42  ,Loss:  tensor(0.0053, device='cuda:0', grad_fn=<MseLossBackward0>)\n",
            "Epoch:  43  ,Loss:  tensor(0.0050, device='cuda:0', grad_fn=<MseLossBackward0>)\n",
            "Epoch:  44  ,Loss:  tensor(0.0047, device='cuda:0', grad_fn=<MseLossBackward0>)\n",
            "Epoch:  45  ,Loss:  tensor(0.0044, device='cuda:0', grad_fn=<MseLossBackward0>)\n",
            "Epoch:  46  ,Loss:  tensor(0.0042, device='cuda:0', grad_fn=<MseLossBackward0>)\n",
            "Epoch:  47  ,Loss:  tensor(0.0040, device='cuda:0', grad_fn=<MseLossBackward0>)\n",
            "Epoch:  48  ,Loss:  tensor(0.0039, device='cuda:0', grad_fn=<MseLossBackward0>)\n",
            "Epoch:  49  ,Loss:  tensor(0.0037, device='cuda:0', grad_fn=<MseLossBackward0>)\n",
            "Epoch:  50  ,Loss:  tensor(0.0036, device='cuda:0', grad_fn=<MseLossBackward0>)\n",
            "Epoch:  51  ,Loss:  tensor(0.0035, device='cuda:0', grad_fn=<MseLossBackward0>)\n",
            "Epoch:  52  ,Loss:  tensor(0.0034, device='cuda:0', grad_fn=<MseLossBackward0>)\n",
            "Epoch:  53  ,Loss:  tensor(0.0033, device='cuda:0', grad_fn=<MseLossBackward0>)\n",
            "Epoch:  54  ,Loss:  tensor(0.0033, device='cuda:0', grad_fn=<MseLossBackward0>)\n",
            "Epoch:  55  ,Loss:  tensor(0.0032, device='cuda:0', grad_fn=<MseLossBackward0>)\n",
            "Epoch:  56  ,Loss:  tensor(0.0031, device='cuda:0', grad_fn=<MseLossBackward0>)\n",
            "Epoch:  57  ,Loss:  tensor(0.0031, device='cuda:0', grad_fn=<MseLossBackward0>)\n",
            "Epoch:  58  ,Loss:  tensor(0.0030, device='cuda:0', grad_fn=<MseLossBackward0>)\n",
            "Epoch:  59  ,Loss:  tensor(0.0029, device='cuda:0', grad_fn=<MseLossBackward0>)\n",
            "Epoch:  60  ,Loss:  tensor(0.0029, device='cuda:0', grad_fn=<MseLossBackward0>)\n",
            "Epoch:  61  ,Loss:  tensor(0.0028, device='cuda:0', grad_fn=<MseLossBackward0>)\n",
            "Epoch:  62  ,Loss:  tensor(0.0027, device='cuda:0', grad_fn=<MseLossBackward0>)\n",
            "Epoch:  63  ,Loss:  tensor(0.0026, device='cuda:0', grad_fn=<MseLossBackward0>)\n",
            "Epoch:  64  ,Loss:  tensor(0.0026, device='cuda:0', grad_fn=<MseLossBackward0>)\n",
            "Epoch:  65  ,Loss:  tensor(0.0025, device='cuda:0', grad_fn=<MseLossBackward0>)\n",
            "Epoch:  66  ,Loss:  tensor(0.0024, device='cuda:0', grad_fn=<MseLossBackward0>)\n",
            "Epoch:  67  ,Loss:  tensor(0.0024, device='cuda:0', grad_fn=<MseLossBackward0>)\n",
            "Epoch:  68  ,Loss:  tensor(0.0023, device='cuda:0', grad_fn=<MseLossBackward0>)\n",
            "Epoch:  69  ,Loss:  tensor(0.0022, device='cuda:0', grad_fn=<MseLossBackward0>)\n",
            "Epoch:  70  ,Loss:  tensor(0.0022, device='cuda:0', grad_fn=<MseLossBackward0>)\n",
            "Epoch:  71  ,Loss:  tensor(0.0021, device='cuda:0', grad_fn=<MseLossBackward0>)\n",
            "Epoch:  72  ,Loss:  tensor(0.0021, device='cuda:0', grad_fn=<MseLossBackward0>)\n",
            "Epoch:  73  ,Loss:  tensor(0.0020, device='cuda:0', grad_fn=<MseLossBackward0>)\n",
            "Epoch:  74  ,Loss:  tensor(0.0020, device='cuda:0', grad_fn=<MseLossBackward0>)\n",
            "Epoch:  75  ,Loss:  tensor(0.0019, device='cuda:0', grad_fn=<MseLossBackward0>)\n",
            "Epoch:  76  ,Loss:  tensor(0.0019, device='cuda:0', grad_fn=<MseLossBackward0>)\n",
            "Epoch:  77  ,Loss:  tensor(0.0018, device='cuda:0', grad_fn=<MseLossBackward0>)\n",
            "Epoch:  78  ,Loss:  tensor(0.0018, device='cuda:0', grad_fn=<MseLossBackward0>)\n",
            "Epoch:  79  ,Loss:  tensor(0.0017, device='cuda:0', grad_fn=<MseLossBackward0>)\n",
            "Epoch:  80  ,Loss:  tensor(0.0017, device='cuda:0', grad_fn=<MseLossBackward0>)\n",
            "Epoch:  81  ,Loss:  tensor(0.0016, device='cuda:0', grad_fn=<MseLossBackward0>)\n",
            "Epoch:  82  ,Loss:  tensor(0.0016, device='cuda:0', grad_fn=<MseLossBackward0>)\n",
            "Epoch:  83  ,Loss:  tensor(0.0016, device='cuda:0', grad_fn=<MseLossBackward0>)\n",
            "Epoch:  84  ,Loss:  tensor(0.0015, device='cuda:0', grad_fn=<MseLossBackward0>)\n",
            "Epoch:  85  ,Loss:  tensor(0.0015, device='cuda:0', grad_fn=<MseLossBackward0>)\n",
            "Epoch:  86  ,Loss:  tensor(0.0014, device='cuda:0', grad_fn=<MseLossBackward0>)\n",
            "Epoch:  87  ,Loss:  tensor(0.0014, device='cuda:0', grad_fn=<MseLossBackward0>)\n",
            "Epoch:  88  ,Loss:  tensor(0.0014, device='cuda:0', grad_fn=<MseLossBackward0>)\n",
            "Epoch:  89  ,Loss:  tensor(0.0014, device='cuda:0', grad_fn=<MseLossBackward0>)\n",
            "Epoch:  90  ,Loss:  tensor(0.0013, device='cuda:0', grad_fn=<MseLossBackward0>)\n",
            "Epoch:  91  ,Loss:  tensor(0.0013, device='cuda:0', grad_fn=<MseLossBackward0>)\n",
            "Epoch:  92  ,Loss:  tensor(0.0013, device='cuda:0', grad_fn=<MseLossBackward0>)\n",
            "Epoch:  93  ,Loss:  tensor(0.0013, device='cuda:0', grad_fn=<MseLossBackward0>)\n",
            "Epoch:  94  ,Loss:  tensor(0.0012, device='cuda:0', grad_fn=<MseLossBackward0>)\n",
            "Epoch:  95  ,Loss:  tensor(0.0012, device='cuda:0', grad_fn=<MseLossBackward0>)\n",
            "Epoch:  96  ,Loss:  tensor(0.0012, device='cuda:0', grad_fn=<MseLossBackward0>)\n",
            "Epoch:  97  ,Loss:  tensor(0.0012, device='cuda:0', grad_fn=<MseLossBackward0>)\n",
            "Epoch:  98  ,Loss:  tensor(0.0012, device='cuda:0', grad_fn=<MseLossBackward0>)\n",
            "Epoch:  99  ,Loss:  tensor(0.0011, device='cuda:0', grad_fn=<MseLossBackward0>)\n",
            "Epoch:  100  ,Loss:  tensor(0.0011, device='cuda:0', grad_fn=<MseLossBackward0>)\n",
            "Epoch:  101  ,Loss:  tensor(0.0011, device='cuda:0', grad_fn=<MseLossBackward0>)\n",
            "Epoch:  102  ,Loss:  tensor(0.0011, device='cuda:0', grad_fn=<MseLossBackward0>)\n",
            "Epoch:  103  ,Loss:  tensor(0.0011, device='cuda:0', grad_fn=<MseLossBackward0>)\n",
            "Epoch:  104  ,Loss:  tensor(0.0011, device='cuda:0', grad_fn=<MseLossBackward0>)\n",
            "Epoch:  105  ,Loss:  tensor(0.0011, device='cuda:0', grad_fn=<MseLossBackward0>)\n",
            "Epoch:  106  ,Loss:  tensor(0.0010, device='cuda:0', grad_fn=<MseLossBackward0>)\n",
            "Epoch:  107  ,Loss:  tensor(0.0010, device='cuda:0', grad_fn=<MseLossBackward0>)\n",
            "Epoch:  108  ,Loss:  tensor(0.0010, device='cuda:0', grad_fn=<MseLossBackward0>)\n",
            "Epoch:  109  ,Loss:  tensor(0.0010, device='cuda:0', grad_fn=<MseLossBackward0>)\n",
            "Epoch:  110  ,Loss:  tensor(0.0010, device='cuda:0', grad_fn=<MseLossBackward0>)\n",
            "Epoch:  111  ,Loss:  tensor(0.0010, device='cuda:0', grad_fn=<MseLossBackward0>)\n",
            "Epoch:  112  ,Loss:  tensor(0.0010, device='cuda:0', grad_fn=<MseLossBackward0>)\n",
            "Epoch:  113  ,Loss:  tensor(0.0010, device='cuda:0', grad_fn=<MseLossBackward0>)\n",
            "Epoch:  114  ,Loss:  tensor(0.0009, device='cuda:0', grad_fn=<MseLossBackward0>)\n",
            "Epoch:  115  ,Loss:  tensor(0.0009, device='cuda:0', grad_fn=<MseLossBackward0>)\n",
            "Epoch:  116  ,Loss:  tensor(0.0009, device='cuda:0', grad_fn=<MseLossBackward0>)\n",
            "Epoch:  117  ,Loss:  tensor(0.0009, device='cuda:0', grad_fn=<MseLossBackward0>)\n",
            "Epoch:  118  ,Loss:  tensor(0.0009, device='cuda:0', grad_fn=<MseLossBackward0>)\n",
            "Epoch:  119  ,Loss:  tensor(0.0009, device='cuda:0', grad_fn=<MseLossBackward0>)\n",
            "Epoch:  120  ,Loss:  tensor(0.0009, device='cuda:0', grad_fn=<MseLossBackward0>)\n",
            "Epoch:  121  ,Loss:  tensor(0.0009, device='cuda:0', grad_fn=<MseLossBackward0>)\n",
            "Epoch:  122  ,Loss:  tensor(0.0009, device='cuda:0', grad_fn=<MseLossBackward0>)\n",
            "Epoch:  123  ,Loss:  tensor(0.0009, device='cuda:0', grad_fn=<MseLossBackward0>)\n",
            "Epoch:  124  ,Loss:  tensor(0.0008, device='cuda:0', grad_fn=<MseLossBackward0>)\n",
            "Epoch:  125  ,Loss:  tensor(0.0008, device='cuda:0', grad_fn=<MseLossBackward0>)\n",
            "Epoch:  126  ,Loss:  tensor(0.0008, device='cuda:0', grad_fn=<MseLossBackward0>)\n",
            "Epoch:  127  ,Loss:  tensor(0.0008, device='cuda:0', grad_fn=<MseLossBackward0>)\n",
            "Epoch:  128  ,Loss:  tensor(0.0008, device='cuda:0', grad_fn=<MseLossBackward0>)\n",
            "Epoch:  129  ,Loss:  tensor(0.0008, device='cuda:0', grad_fn=<MseLossBackward0>)\n",
            "Epoch:  130  ,Loss:  tensor(0.0008, device='cuda:0', grad_fn=<MseLossBackward0>)\n",
            "Epoch:  131  ,Loss:  tensor(0.0008, device='cuda:0', grad_fn=<MseLossBackward0>)\n",
            "Epoch:  132  ,Loss:  tensor(0.0008, device='cuda:0', grad_fn=<MseLossBackward0>)\n",
            "Epoch:  133  ,Loss:  tensor(0.0008, device='cuda:0', grad_fn=<MseLossBackward0>)\n",
            "Epoch:  134  ,Loss:  tensor(0.0008, device='cuda:0', grad_fn=<MseLossBackward0>)\n",
            "Epoch:  135  ,Loss:  tensor(0.0008, device='cuda:0', grad_fn=<MseLossBackward0>)\n",
            "Epoch:  136  ,Loss:  tensor(0.0007, device='cuda:0', grad_fn=<MseLossBackward0>)\n",
            "Epoch:  137  ,Loss:  tensor(0.0007, device='cuda:0', grad_fn=<MseLossBackward0>)\n",
            "Epoch:  138  ,Loss:  tensor(0.0007, device='cuda:0', grad_fn=<MseLossBackward0>)\n",
            "Epoch:  139  ,Loss:  tensor(0.0007, device='cuda:0', grad_fn=<MseLossBackward0>)\n",
            "Epoch:  140  ,Loss:  tensor(0.0007, device='cuda:0', grad_fn=<MseLossBackward0>)\n",
            "Epoch:  141  ,Loss:  tensor(0.0007, device='cuda:0', grad_fn=<MseLossBackward0>)\n",
            "Epoch:  142  ,Loss:  tensor(0.0007, device='cuda:0', grad_fn=<MseLossBackward0>)\n",
            "Epoch:  143  ,Loss:  tensor(0.0007, device='cuda:0', grad_fn=<MseLossBackward0>)\n",
            "Epoch:  144  ,Loss:  tensor(0.0007, device='cuda:0', grad_fn=<MseLossBackward0>)\n",
            "Epoch:  145  ,Loss:  tensor(0.0007, device='cuda:0', grad_fn=<MseLossBackward0>)\n",
            "Epoch:  146  ,Loss:  tensor(0.0007, device='cuda:0', grad_fn=<MseLossBackward0>)\n",
            "Epoch:  147  ,Loss:  tensor(0.0007, device='cuda:0', grad_fn=<MseLossBackward0>)\n",
            "Epoch:  148  ,Loss:  tensor(0.0007, device='cuda:0', grad_fn=<MseLossBackward0>)\n",
            "Epoch:  149  ,Loss:  tensor(0.0007, device='cuda:0', grad_fn=<MseLossBackward0>)\n",
            "Epoch:  150  ,Loss:  tensor(0.0007, device='cuda:0', grad_fn=<MseLossBackward0>)\n",
            "Epoch:  151  ,Loss:  tensor(0.0006, device='cuda:0', grad_fn=<MseLossBackward0>)\n",
            "Epoch:  152  ,Loss:  tensor(0.0006, device='cuda:0', grad_fn=<MseLossBackward0>)\n",
            "Epoch:  153  ,Loss:  tensor(0.0006, device='cuda:0', grad_fn=<MseLossBackward0>)\n",
            "Epoch:  154  ,Loss:  tensor(0.0006, device='cuda:0', grad_fn=<MseLossBackward0>)\n",
            "Epoch:  155  ,Loss:  tensor(0.0006, device='cuda:0', grad_fn=<MseLossBackward0>)\n",
            "Epoch:  156  ,Loss:  tensor(0.0006, device='cuda:0', grad_fn=<MseLossBackward0>)\n",
            "Epoch:  157  ,Loss:  tensor(0.0006, device='cuda:0', grad_fn=<MseLossBackward0>)\n",
            "Epoch:  158  ,Loss:  tensor(0.0006, device='cuda:0', grad_fn=<MseLossBackward0>)\n",
            "Epoch:  159  ,Loss:  tensor(0.0006, device='cuda:0', grad_fn=<MseLossBackward0>)\n",
            "Epoch:  160  ,Loss:  tensor(0.0006, device='cuda:0', grad_fn=<MseLossBackward0>)\n",
            "Epoch:  161  ,Loss:  tensor(0.0006, device='cuda:0', grad_fn=<MseLossBackward0>)\n",
            "Epoch:  162  ,Loss:  tensor(0.0006, device='cuda:0', grad_fn=<MseLossBackward0>)\n",
            "Epoch:  163  ,Loss:  tensor(0.0006, device='cuda:0', grad_fn=<MseLossBackward0>)\n",
            "Epoch:  164  ,Loss:  tensor(0.0006, device='cuda:0', grad_fn=<MseLossBackward0>)\n",
            "Epoch:  165  ,Loss:  tensor(0.0006, device='cuda:0', grad_fn=<MseLossBackward0>)\n",
            "Epoch:  166  ,Loss:  tensor(0.0006, device='cuda:0', grad_fn=<MseLossBackward0>)\n",
            "Epoch:  167  ,Loss:  tensor(0.0006, device='cuda:0', grad_fn=<MseLossBackward0>)\n",
            "Epoch:  168  ,Loss:  tensor(0.0006, device='cuda:0', grad_fn=<MseLossBackward0>)\n",
            "Epoch:  169  ,Loss:  tensor(0.0006, device='cuda:0', grad_fn=<MseLossBackward0>)\n",
            "Epoch:  170  ,Loss:  tensor(0.0005, device='cuda:0', grad_fn=<MseLossBackward0>)\n",
            "Epoch:  171  ,Loss:  tensor(0.0005, device='cuda:0', grad_fn=<MseLossBackward0>)\n",
            "Epoch:  172  ,Loss:  tensor(0.0005, device='cuda:0', grad_fn=<MseLossBackward0>)\n",
            "Epoch:  173  ,Loss:  tensor(0.0005, device='cuda:0', grad_fn=<MseLossBackward0>)\n",
            "Epoch:  174  ,Loss:  tensor(0.0005, device='cuda:0', grad_fn=<MseLossBackward0>)\n",
            "Epoch:  175  ,Loss:  tensor(0.0005, device='cuda:0', grad_fn=<MseLossBackward0>)\n",
            "Epoch:  176  ,Loss:  tensor(0.0005, device='cuda:0', grad_fn=<MseLossBackward0>)\n",
            "Epoch:  177  ,Loss:  tensor(0.0005, device='cuda:0', grad_fn=<MseLossBackward0>)\n",
            "Epoch:  178  ,Loss:  tensor(0.0005, device='cuda:0', grad_fn=<MseLossBackward0>)\n",
            "Epoch:  179  ,Loss:  tensor(0.0005, device='cuda:0', grad_fn=<MseLossBackward0>)\n",
            "Epoch:  180  ,Loss:  tensor(0.0005, device='cuda:0', grad_fn=<MseLossBackward0>)\n",
            "Epoch:  181  ,Loss:  tensor(0.0005, device='cuda:0', grad_fn=<MseLossBackward0>)\n",
            "Epoch:  182  ,Loss:  tensor(0.0005, device='cuda:0', grad_fn=<MseLossBackward0>)\n",
            "Epoch:  183  ,Loss:  tensor(0.0005, device='cuda:0', grad_fn=<MseLossBackward0>)\n",
            "Epoch:  184  ,Loss:  tensor(0.0005, device='cuda:0', grad_fn=<MseLossBackward0>)\n",
            "Epoch:  185  ,Loss:  tensor(0.0005, device='cuda:0', grad_fn=<MseLossBackward0>)\n",
            "Epoch:  186  ,Loss:  tensor(0.0005, device='cuda:0', grad_fn=<MseLossBackward0>)\n",
            "Epoch:  187  ,Loss:  tensor(0.0005, device='cuda:0', grad_fn=<MseLossBackward0>)\n",
            "Epoch:  188  ,Loss:  tensor(0.0005, device='cuda:0', grad_fn=<MseLossBackward0>)\n",
            "Epoch:  189  ,Loss:  tensor(0.0005, device='cuda:0', grad_fn=<MseLossBackward0>)\n",
            "Epoch:  190  ,Loss:  tensor(0.0005, device='cuda:0', grad_fn=<MseLossBackward0>)\n",
            "Epoch:  191  ,Loss:  tensor(0.0005, device='cuda:0', grad_fn=<MseLossBackward0>)\n",
            "Epoch:  192  ,Loss:  tensor(0.0005, device='cuda:0', grad_fn=<MseLossBackward0>)\n",
            "Epoch:  193  ,Loss:  tensor(0.0005, device='cuda:0', grad_fn=<MseLossBackward0>)\n",
            "Epoch:  194  ,Loss:  tensor(0.0005, device='cuda:0', grad_fn=<MseLossBackward0>)\n",
            "Epoch:  195  ,Loss:  tensor(0.0004, device='cuda:0', grad_fn=<MseLossBackward0>)\n",
            "Epoch:  196  ,Loss:  tensor(0.0004, device='cuda:0', grad_fn=<MseLossBackward0>)\n",
            "Epoch:  197  ,Loss:  tensor(0.0004, device='cuda:0', grad_fn=<MseLossBackward0>)\n",
            "Epoch:  198  ,Loss:  tensor(0.0004, device='cuda:0', grad_fn=<MseLossBackward0>)\n",
            "Epoch:  199  ,Loss:  tensor(0.0004, device='cuda:0', grad_fn=<MseLossBackward0>)\n",
            "Epoch:  200  ,Loss:  tensor(0.0004, device='cuda:0', grad_fn=<MseLossBackward0>)\n",
            "Epoch:  201  ,Loss:  tensor(0.0004, device='cuda:0', grad_fn=<MseLossBackward0>)\n",
            "Epoch:  202  ,Loss:  tensor(0.0004, device='cuda:0', grad_fn=<MseLossBackward0>)\n",
            "Epoch:  203  ,Loss:  tensor(0.0004, device='cuda:0', grad_fn=<MseLossBackward0>)\n",
            "Epoch:  204  ,Loss:  tensor(0.0004, device='cuda:0', grad_fn=<MseLossBackward0>)\n",
            "Epoch:  205  ,Loss:  tensor(0.0004, device='cuda:0', grad_fn=<MseLossBackward0>)\n",
            "Epoch:  206  ,Loss:  tensor(0.0004, device='cuda:0', grad_fn=<MseLossBackward0>)\n",
            "Epoch:  207  ,Loss:  tensor(0.0004, device='cuda:0', grad_fn=<MseLossBackward0>)\n",
            "Epoch:  208  ,Loss:  tensor(0.0004, device='cuda:0', grad_fn=<MseLossBackward0>)\n",
            "Epoch:  209  ,Loss:  tensor(0.0004, device='cuda:0', grad_fn=<MseLossBackward0>)\n",
            "Epoch:  210  ,Loss:  tensor(0.0004, device='cuda:0', grad_fn=<MseLossBackward0>)\n",
            "Epoch:  211  ,Loss:  tensor(0.0004, device='cuda:0', grad_fn=<MseLossBackward0>)\n",
            "Epoch:  212  ,Loss:  tensor(0.0004, device='cuda:0', grad_fn=<MseLossBackward0>)\n",
            "Epoch:  213  ,Loss:  tensor(0.0004, device='cuda:0', grad_fn=<MseLossBackward0>)\n",
            "Epoch:  214  ,Loss:  tensor(0.0004, device='cuda:0', grad_fn=<MseLossBackward0>)\n",
            "Epoch:  215  ,Loss:  tensor(0.0004, device='cuda:0', grad_fn=<MseLossBackward0>)\n",
            "Epoch:  216  ,Loss:  tensor(0.0004, device='cuda:0', grad_fn=<MseLossBackward0>)\n",
            "Epoch:  217  ,Loss:  tensor(0.0004, device='cuda:0', grad_fn=<MseLossBackward0>)\n",
            "Epoch:  218  ,Loss:  tensor(0.0004, device='cuda:0', grad_fn=<MseLossBackward0>)\n",
            "Epoch:  219  ,Loss:  tensor(0.0004, device='cuda:0', grad_fn=<MseLossBackward0>)\n",
            "Epoch:  220  ,Loss:  tensor(0.0004, device='cuda:0', grad_fn=<MseLossBackward0>)\n",
            "Epoch:  221  ,Loss:  tensor(0.0004, device='cuda:0', grad_fn=<MseLossBackward0>)\n",
            "Epoch:  222  ,Loss:  tensor(0.0004, device='cuda:0', grad_fn=<MseLossBackward0>)\n",
            "Epoch:  223  ,Loss:  tensor(0.0004, device='cuda:0', grad_fn=<MseLossBackward0>)\n",
            "Epoch:  224  ,Loss:  tensor(0.0004, device='cuda:0', grad_fn=<MseLossBackward0>)\n",
            "Epoch:  225  ,Loss:  tensor(0.0004, device='cuda:0', grad_fn=<MseLossBackward0>)\n",
            "Epoch:  226  ,Loss:  tensor(0.0004, device='cuda:0', grad_fn=<MseLossBackward0>)\n",
            "Epoch:  227  ,Loss:  tensor(0.0004, device='cuda:0', grad_fn=<MseLossBackward0>)\n",
            "Epoch:  228  ,Loss:  tensor(0.0004, device='cuda:0', grad_fn=<MseLossBackward0>)\n",
            "Epoch:  229  ,Loss:  tensor(0.0004, device='cuda:0', grad_fn=<MseLossBackward0>)\n",
            "Epoch:  230  ,Loss:  tensor(0.0003, device='cuda:0', grad_fn=<MseLossBackward0>)\n",
            "Epoch:  231  ,Loss:  tensor(0.0003, device='cuda:0', grad_fn=<MseLossBackward0>)\n",
            "Epoch:  232  ,Loss:  tensor(0.0003, device='cuda:0', grad_fn=<MseLossBackward0>)\n",
            "Epoch:  233  ,Loss:  tensor(0.0003, device='cuda:0', grad_fn=<MseLossBackward0>)\n",
            "Epoch:  234  ,Loss:  tensor(0.0003, device='cuda:0', grad_fn=<MseLossBackward0>)\n",
            "Epoch:  235  ,Loss:  tensor(0.0003, device='cuda:0', grad_fn=<MseLossBackward0>)\n",
            "Epoch:  236  ,Loss:  tensor(0.0003, device='cuda:0', grad_fn=<MseLossBackward0>)\n",
            "Epoch:  237  ,Loss:  tensor(0.0003, device='cuda:0', grad_fn=<MseLossBackward0>)\n",
            "Epoch:  238  ,Loss:  tensor(0.0003, device='cuda:0', grad_fn=<MseLossBackward0>)\n",
            "Epoch:  239  ,Loss:  tensor(0.0003, device='cuda:0', grad_fn=<MseLossBackward0>)\n",
            "Epoch:  240  ,Loss:  tensor(0.0003, device='cuda:0', grad_fn=<MseLossBackward0>)\n",
            "Epoch:  241  ,Loss:  tensor(0.0003, device='cuda:0', grad_fn=<MseLossBackward0>)\n",
            "Epoch:  242  ,Loss:  tensor(0.0003, device='cuda:0', grad_fn=<MseLossBackward0>)\n",
            "Epoch:  243  ,Loss:  tensor(0.0003, device='cuda:0', grad_fn=<MseLossBackward0>)\n",
            "Epoch:  244  ,Loss:  tensor(0.0003, device='cuda:0', grad_fn=<MseLossBackward0>)\n",
            "Epoch:  245  ,Loss:  tensor(0.0003, device='cuda:0', grad_fn=<MseLossBackward0>)\n",
            "Epoch:  246  ,Loss:  tensor(0.0003, device='cuda:0', grad_fn=<MseLossBackward0>)\n",
            "Epoch:  247  ,Loss:  tensor(0.0003, device='cuda:0', grad_fn=<MseLossBackward0>)\n",
            "Epoch:  248  ,Loss:  tensor(0.0003, device='cuda:0', grad_fn=<MseLossBackward0>)\n",
            "Epoch:  249  ,Loss:  tensor(0.0003, device='cuda:0', grad_fn=<MseLossBackward0>)\n",
            "Epoch:  250  ,Loss:  tensor(0.0003, device='cuda:0', grad_fn=<MseLossBackward0>)\n",
            "Epoch:  251  ,Loss:  tensor(0.0003, device='cuda:0', grad_fn=<MseLossBackward0>)\n",
            "Epoch:  252  ,Loss:  tensor(0.0003, device='cuda:0', grad_fn=<MseLossBackward0>)\n",
            "Epoch:  253  ,Loss:  tensor(0.0003, device='cuda:0', grad_fn=<MseLossBackward0>)\n",
            "Epoch:  254  ,Loss:  tensor(0.0003, device='cuda:0', grad_fn=<MseLossBackward0>)\n",
            "Epoch:  255  ,Loss:  tensor(0.0003, device='cuda:0', grad_fn=<MseLossBackward0>)\n",
            "Epoch:  256  ,Loss:  tensor(0.0003, device='cuda:0', grad_fn=<MseLossBackward0>)\n",
            "Epoch:  257  ,Loss:  tensor(0.0003, device='cuda:0', grad_fn=<MseLossBackward0>)\n",
            "Epoch:  258  ,Loss:  tensor(0.0003, device='cuda:0', grad_fn=<MseLossBackward0>)\n",
            "Epoch:  259  ,Loss:  tensor(0.0003, device='cuda:0', grad_fn=<MseLossBackward0>)\n",
            "Epoch:  260  ,Loss:  tensor(0.0003, device='cuda:0', grad_fn=<MseLossBackward0>)\n",
            "Epoch:  261  ,Loss:  tensor(0.0003, device='cuda:0', grad_fn=<MseLossBackward0>)\n",
            "Epoch:  262  ,Loss:  tensor(0.0003, device='cuda:0', grad_fn=<MseLossBackward0>)\n",
            "Epoch:  263  ,Loss:  tensor(0.0003, device='cuda:0', grad_fn=<MseLossBackward0>)\n",
            "Epoch:  264  ,Loss:  tensor(0.0003, device='cuda:0', grad_fn=<MseLossBackward0>)\n",
            "Epoch:  265  ,Loss:  tensor(0.0003, device='cuda:0', grad_fn=<MseLossBackward0>)\n",
            "Epoch:  266  ,Loss:  tensor(0.0003, device='cuda:0', grad_fn=<MseLossBackward0>)\n",
            "Epoch:  267  ,Loss:  tensor(0.0003, device='cuda:0', grad_fn=<MseLossBackward0>)\n",
            "Epoch:  268  ,Loss:  tensor(0.0003, device='cuda:0', grad_fn=<MseLossBackward0>)\n",
            "Epoch:  269  ,Loss:  tensor(0.0003, device='cuda:0', grad_fn=<MseLossBackward0>)\n",
            "Epoch:  270  ,Loss:  tensor(0.0003, device='cuda:0', grad_fn=<MseLossBackward0>)\n",
            "Epoch:  271  ,Loss:  tensor(0.0003, device='cuda:0', grad_fn=<MseLossBackward0>)\n",
            "Epoch:  272  ,Loss:  tensor(0.0003, device='cuda:0', grad_fn=<MseLossBackward0>)\n",
            "Epoch:  273  ,Loss:  tensor(0.0003, device='cuda:0', grad_fn=<MseLossBackward0>)\n",
            "Epoch:  274  ,Loss:  tensor(0.0003, device='cuda:0', grad_fn=<MseLossBackward0>)\n",
            "Epoch:  275  ,Loss:  tensor(0.0003, device='cuda:0', grad_fn=<MseLossBackward0>)\n",
            "Epoch:  276  ,Loss:  tensor(0.0003, device='cuda:0', grad_fn=<MseLossBackward0>)\n",
            "Epoch:  277  ,Loss:  tensor(0.0003, device='cuda:0', grad_fn=<MseLossBackward0>)\n",
            "Epoch:  278  ,Loss:  tensor(0.0003, device='cuda:0', grad_fn=<MseLossBackward0>)\n",
            "Epoch:  279  ,Loss:  tensor(0.0003, device='cuda:0', grad_fn=<MseLossBackward0>)\n",
            "Epoch:  280  ,Loss:  tensor(0.0003, device='cuda:0', grad_fn=<MseLossBackward0>)\n",
            "Epoch:  281  ,Loss:  tensor(0.0003, device='cuda:0', grad_fn=<MseLossBackward0>)\n",
            "Epoch:  282  ,Loss:  tensor(0.0002, device='cuda:0', grad_fn=<MseLossBackward0>)\n",
            "Epoch:  283  ,Loss:  tensor(0.0002, device='cuda:0', grad_fn=<MseLossBackward0>)\n",
            "Epoch:  284  ,Loss:  tensor(0.0002, device='cuda:0', grad_fn=<MseLossBackward0>)\n",
            "Epoch:  285  ,Loss:  tensor(0.0002, device='cuda:0', grad_fn=<MseLossBackward0>)\n",
            "Epoch:  286  ,Loss:  tensor(0.0002, device='cuda:0', grad_fn=<MseLossBackward0>)\n",
            "Epoch:  287  ,Loss:  tensor(0.0002, device='cuda:0', grad_fn=<MseLossBackward0>)\n",
            "Epoch:  288  ,Loss:  tensor(0.0002, device='cuda:0', grad_fn=<MseLossBackward0>)\n",
            "Epoch:  289  ,Loss:  tensor(0.0002, device='cuda:0', grad_fn=<MseLossBackward0>)\n",
            "Epoch:  290  ,Loss:  tensor(0.0002, device='cuda:0', grad_fn=<MseLossBackward0>)\n",
            "Epoch:  291  ,Loss:  tensor(0.0002, device='cuda:0', grad_fn=<MseLossBackward0>)\n",
            "Epoch:  292  ,Loss:  tensor(0.0002, device='cuda:0', grad_fn=<MseLossBackward0>)\n",
            "Epoch:  293  ,Loss:  tensor(0.0002, device='cuda:0', grad_fn=<MseLossBackward0>)\n",
            "Epoch:  294  ,Loss:  tensor(0.0002, device='cuda:0', grad_fn=<MseLossBackward0>)\n",
            "Epoch:  295  ,Loss:  tensor(0.0002, device='cuda:0', grad_fn=<MseLossBackward0>)\n",
            "Epoch:  296  ,Loss:  tensor(0.0002, device='cuda:0', grad_fn=<MseLossBackward0>)\n",
            "Epoch:  297  ,Loss:  tensor(0.0002, device='cuda:0', grad_fn=<MseLossBackward0>)\n",
            "Epoch:  298  ,Loss:  tensor(0.0002, device='cuda:0', grad_fn=<MseLossBackward0>)\n",
            "Epoch:  299  ,Loss:  tensor(0.0002, device='cuda:0', grad_fn=<MseLossBackward0>)\n",
            "Epoch:  300  ,Loss:  tensor(0.0002, device='cuda:0', grad_fn=<MseLossBackward0>)\n"
          ]
        }
      ],
      "source": [
        "optim = Aperture_RT.optimize()\n"
      ]
    },
    {
      "cell_type": "code",
      "execution_count": 27,
      "metadata": {
        "id": "QaejCSWB35Tt"
      },
      "outputs": [],
      "source": [
        "# save optimised array\n",
        "path=\"/content/drive/MyDrive/Colab Notebooks/MASTERS PROJECT /Models/{optim_array_3.pt}\"\n",
        "torch.save(optim[0][0], path)"
      ]
    },
    {
      "cell_type": "code",
      "execution_count": 28,
      "metadata": {
        "id": "q8oAt_GECgIU"
      },
      "outputs": [],
      "source": [
        "# Load Optimised array\n",
        "path=\"/content/drive/MyDrive/Colab Notebooks/MASTERS PROJECT /Models/{optim_array_3.pt}\"\n",
        "optim_array_3  = torch.load(path)\n"
      ]
    },
    {
      "cell_type": "code",
      "source": [
        "plt.imshow(optim_array_3.detach().cpu().numpy().reshape(28, 28), cmap='gray')\n",
        "plt.savefig('/content/drive/MyDrive/Colab Notebooks/MASTERS PROJECT /Tests/Test_3/optimised_array.png')\n",
        "plt.axis('off')\n",
        "plt.show()\n"
      ],
      "metadata": {
        "id": "3IUJi1MtXZRx",
        "colab": {
          "base_uri": "https://localhost:8080/",
          "height": 248
        },
        "outputId": "eb754d8f-11f4-41ea-d23b-5c190487ace4"
      },
      "execution_count": 29,
      "outputs": [
        {
          "output_type": "display_data",
          "data": {
            "text/plain": [
              "<Figure size 432x288 with 1 Axes>"
            ],
            "image/png": "[encoded data removed]"
          },
          "metadata": {
            "needs_background": "light"
          }
        }
      ]
    },
    {
      "cell_type": "code",
      "execution_count": 30,
      "metadata": {
        "id": "49vRU_IOUgWx"
      },
      "outputs": [],
      "source": [
        "optimised_image_3, intersection_points=Aperture_RT.forward(optim_array_3,test_im_3)"
      ]
    },
    {
      "cell_type": "code",
      "execution_count": 31,
      "metadata": {
        "id": "usAWKo-vIeir",
        "colab": {
          "base_uri": "https://localhost:8080/",
          "height": 196
        },
        "outputId": "a3feb564-0971-4683-a679-a11c6638bf19"
      },
      "outputs": [
        {
          "output_type": "execute_result",
          "data": {
            "text/plain": [
              "Text(0.5, 1.0, 'Optimised array')"
            ]
          },
          "metadata": {},
          "execution_count": 31
        },
        {
          "output_type": "display_data",
          "data": {
            "text/plain": [
              "<Figure size 1080x1080 with 5 Axes>"
            ],
            "image/png": "[encoded data removed]"
          },
          "metadata": {
            "needs_background": "light"
          }
        }
      ],
      "source": [
        "fig , axes=plt.subplots(1,5, figsize =(15, 15))\n",
        "\n",
        "axes[0].imshow(test_im_3, cmap='gray')\n",
        "axes[0].set_title('original sized image')\n",
        "\n",
        "axes[1].imshow(resize_image.cpu().squeeze().numpy(), cmap='gray')\n",
        "axes[1].set_title('Target Image')\n",
        "\n",
        "axes[2].imshow(ray_traced_image_3.detach().cpu().numpy(),cmap='gray')\n",
        "axes[2].set_title('Image ray traced through array')\n",
        "\n",
        "\n",
        "axes[3].imshow(optimised_image_3.detach().cpu().numpy(), cmap='gray')\n",
        "axes[3].set_title('Optimised image')\n",
        "\n",
        "axes[4].imshow(optim_array_3.detach().cpu().numpy().reshape(28,28), cmap='gray')\n",
        "axes[4].set_title('Optimised array')"
      ]
    },
    {
      "cell_type": "code",
      "execution_count": 42,
      "metadata": {
        "id": "kS75EzyaGXzH",
        "colab": {
          "base_uri": "https://localhost:8080/"
        },
        "outputId": "44f22ecf-1d70-457f-c900-b3e88312fc79"
      },
      "outputs": [
        {
          "output_type": "stream",
          "name": "stdout",
          "text": [
            "The loss after optimisation is:  tensor(0.0440, device='cuda:0', grad_fn=<MseLossBackward0>)\n"
          ]
        }
      ],
      "source": [
        "# calculating error between ray traced image and optimised array\n",
        "Loss = Aperture_RT.compute_loss(optimised_image_3, resize_image.squeeze())\n",
        "print('The loss after optimisation is: ',Loss)"
      ]
    },
    {
      "cell_type": "code",
      "source": [],
      "metadata": {
        "id": "_xVmAfnXWfmX"
      },
      "execution_count": null,
      "outputs": []
    },
    {
      "cell_type": "markdown",
      "source": [
        "# Plot Convergence History "
      ],
      "metadata": {
        "id": "OrqWV6rNKau8"
      }
    },
    {
      "cell_type": "code",
      "source": [
        "hist =[]\n",
        "for i in optim[1]:\n",
        "  hist.append(float(i.cpu()) )\n"
      ],
      "metadata": {
        "id": "s3YZv55Zb1nb"
      },
      "execution_count": 34,
      "outputs": []
    },
    {
      "cell_type": "code",
      "source": [
        "plt.plot(hist)\n",
        "plt.title('Convergence History')\n",
        "plt.grid()\n",
        "plt .xlabel('Iteration')\n",
        "plt.ylabel('MSE Loss')\n",
        "plt.savefig('/content/drive/MyDrive/Colab Notebooks/MASTERS PROJECT /Tests/Test_3/Convergence_history.png')\n",
        "plt.show()"
      ],
      "metadata": {
        "colab": {
          "base_uri": "https://localhost:8080/",
          "height": 295
        },
        "id": "BEQ6mIQdKfGz",
        "outputId": "80432620-ffda-49ef-9ca9-c96800f1ddad"
      },
      "execution_count": 35,
      "outputs": [
        {
          "output_type": "display_data",
          "data": {
            "text/plain": [
              "<Figure size 432x288 with 1 Axes>"
            ],
            "image/png": "[encoded data removed]"
          },
          "metadata": {
            "needs_background": "light"
          }
        }
      ]
    },
    {
      "cell_type": "markdown",
      "source": [
        "# Saving Results"
      ],
      "metadata": {
        "id": "-1Dlg2OpWy3J"
      }
    },
    {
      "cell_type": "code",
      "source": [
        "plt.imshow(test_im_3, cmap='gray')\n",
        "plt.savefig('/content/drive/MyDrive/Colab Notebooks/MASTERS PROJECT /Tests/Test_3/test_image.png')\n",
        "plt.axis('off')\n",
        "plt.show()"
      ],
      "metadata": {
        "colab": {
          "base_uri": "https://localhost:8080/",
          "height": 248
        },
        "id": "mMTJI6LHXNkm",
        "outputId": "9602367c-6ef7-48ff-e0e1-91f5dcee1bcd"
      },
      "execution_count": 36,
      "outputs": [
        {
          "output_type": "display_data",
          "data": {
            "text/plain": [
              "<Figure size 432x288 with 1 Axes>"
            ],
            "image/png": "[encoded data removed]"
          },
          "metadata": {
            "needs_background": "light"
          }
        }
      ]
    },
    {
      "cell_type": "code",
      "source": [
        "plt.imshow(resize_image.squeeze().detach().cpu().numpy(), cmap='gray')\n",
        "plt.savefig('/content/drive/MyDrive/Colab Notebooks/MASTERS PROJECT /Tests/Test_3/resize_image.png')\n",
        "plt.axis('off')\n",
        "plt.show()"
      ],
      "metadata": {
        "colab": {
          "base_uri": "https://localhost:8080/",
          "height": 248
        },
        "id": "2I9ofhZ2xu9y",
        "outputId": "80d2326e-ab2d-44e2-88b2-ddc286d46cb3"
      },
      "execution_count": 37,
      "outputs": [
        {
          "output_type": "display_data",
          "data": {
            "text/plain": [
              "<Figure size 432x288 with 1 Axes>"
            ],
            "image/png": "[encoded data removed]"
          },
          "metadata": {
            "needs_background": "light"
          }
        }
      ]
    },
    {
      "cell_type": "code",
      "source": [
        "plt.imshow(ray_traced_image_3.detach().cpu().numpy(), cmap ='gray')\n",
        "plt.savefig('/content/drive/MyDrive/Colab Notebooks/MASTERS PROJECT /Tests/Test_3/Ray_traced_image.png')\n",
        "plt.axis('off')\n",
        "plt.show()"
      ],
      "metadata": {
        "colab": {
          "base_uri": "https://localhost:8080/",
          "height": 248
        },
        "id": "xUoHG0fgW1Nw",
        "outputId": "29647b87-d6f5-4006-9249-1aba6e86f881"
      },
      "execution_count": 38,
      "outputs": [
        {
          "output_type": "display_data",
          "data": {
            "text/plain": [
              "<Figure size 432x288 with 1 Axes>"
            ],
            "image/png": "[encoded data removed]"
          },
          "metadata": {
            "needs_background": "light"
          }
        }
      ]
    },
    {
      "cell_type": "code",
      "source": [
        "plt.imshow(optimised_image_3.detach().cpu().numpy(), cmap='gray')\n",
        "plt.savefig('/content/drive/MyDrive/Colab Notebooks/MASTERS PROJECT /Tests/Test_3/optimised_img.png')\n",
        "plt.axis('off')\n",
        "plt.show()"
      ],
      "metadata": {
        "colab": {
          "base_uri": "https://localhost:8080/",
          "height": 248
        },
        "id": "zvc9BRwLXMcY",
        "outputId": "a9625106-f39f-441e-a2aa-7da822b5ce81"
      },
      "execution_count": 39,
      "outputs": [
        {
          "output_type": "display_data",
          "data": {
            "text/plain": [
              "<Figure size 432x288 with 1 Axes>"
            ],
            "image/png": "[encoded data removed]"
          },
          "metadata": {
            "needs_background": "light"
          }
        }
      ]
    },
    {
      "cell_type": "code",
      "source": [
        "plt.imshow(optim_array_3.detach().cpu().numpy().reshape(28,28), cmap='gray')\n",
        "plt.savefig('/content/drive/MyDrive/Colab Notebooks/MASTERS PROJECT /Tests/Test_3/optimised_array.png')\n",
        "plt.axis('off')\n",
        "plt.show()"
      ],
      "metadata": {
        "id": "zsr2MGH9Xgzi",
        "colab": {
          "base_uri": "https://localhost:8080/",
          "height": 248
        },
        "outputId": "30f0876c-3a96-49e9-db17-080bf4d65a30"
      },
      "execution_count": 40,
      "outputs": [
        {
          "output_type": "display_data",
          "data": {
            "text/plain": [
              "<Figure size 432x288 with 1 Axes>"
            ],
            "image/png": "[encoded data removed]"
          },
          "metadata": {
            "needs_background": "light"
          }
        }
      ]
    },
    {
      "cell_type": "code",
      "source": [],
      "metadata": {
        "id": "QrrmkR25CQbc"
      },
      "execution_count": null,
      "outputs": []
    }
  ],
  "metadata": {
    "accelerator": "GPU",
    "colab": {
      "collapsed_sections": [],
      "provenance": [],
      "machine_shape": "hm"
    },
    "gpuClass": "standard",
    "kernelspec": {
      "display_name": "Python 3",
      "name": "python3"
    },
    "language_info": {
      "name": "python"
    }
  },
  "nbformat": 4,
  "nbformat_minor": 0
}
